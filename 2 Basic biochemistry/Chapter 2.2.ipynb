{
 "cells": [
  {
   "cell_type": "markdown",
   "metadata": {},
   "source": [
    "# The Python toolbox\n",
    "\n",
    "This module requires you to be familiar with the Python environment in order to solve biochemical engineering problems.\n",
    "The tools needed to succesfully complete this module include: plotting, solving matrices, working with functions, and integrating functions in the Python environment. These tools will be used beyond CBI310 in your second semester and in your final year. Basic coding principles such as defining variables, writing for/while loops, and writing out mathematical formulas, are assumed to be knowledge aquired in MPR210. This tutorial aims to give you a short overview of the coding skills required throughout this module and gives you the opportunity to revise previously aqcuired coding knowledge."
   ]
  },
  {
   "cell_type": "markdown",
   "metadata": {},
   "source": [
    "## 1. Fundamentals\n",
    "When a problem statement is given, the first thing you should do is to translate words to mathematics. This is achieved through the definition of parameters, variables, and functions. The following example is supposed to remind you of the correct syntax to use when defining a function.\n",
    "\n",
    "Example:\n",
    "What is the volume of a sphere?\n",
    "- We know that the volume of a sphere is calculated by using: $V = 4/3*\\pi*r^{3}$"
   ]
  },
  {
   "cell_type": "code",
   "execution_count": 4,
   "metadata": {},
   "outputs": [],
   "source": [
    "import numpy as np #We need this library to use the functions in Python\n",
    "\n",
    "def Volume_of_sphere (r):\n",
    "    V = 4/3*np.pi*r**3\n",
    "    return V"
   ]
  },
  {
   "cell_type": "markdown",
   "metadata": {},
   "source": [
    "We can now use this function to calculate the volume of a sphere with any radius. Eg. r = 2, r = 4, and r = 10."
   ]
  },
  {
   "cell_type": "code",
   "execution_count": 5,
   "metadata": {},
   "outputs": [
    {
     "data": {
      "text/plain": [
       "(33.510321638291124, 268.082573106329, 4188.790204786391)"
      ]
     },
     "execution_count": 5,
     "metadata": {},
     "output_type": "execute_result"
    }
   ],
   "source": [
    "Volume_of_sphere(2), Volume_of_sphere(4), Volume_of_sphere(10)"
   ]
  },
  {
   "cell_type": "markdown",
   "metadata": {},
   "source": [
    "Rewriting this is inefficient coding. To make the code more efficient, we can use a for loop. This is illustrated below:"
   ]
  },
  {
   "cell_type": "code",
   "execution_count": 6,
   "metadata": {},
   "outputs": [
    {
     "name": "stdout",
     "output_type": "stream",
     "text": [
      "33.510321638291124\n",
      "268.082573106329\n",
      "4188.790204786391\n"
     ]
    }
   ],
   "source": [
    "for i in [2,4,10]:\n",
    "    print(Volume_of_sphere(i))"
   ]
  },
  {
   "cell_type": "markdown",
   "metadata": {},
   "source": [
    "Let's say we wanted to know the volume of spheres with radii from 1 to 10 with increments of 1. We can set up a list of these values in various ways. Below different methods are illustrated:"
   ]
  },
  {
   "cell_type": "code",
   "execution_count": 7,
   "metadata": {},
   "outputs": [
    {
     "data": {
      "text/plain": [
       "(array([ 1,  2,  3,  4,  5,  6,  7,  8,  9, 10]),\n",
       " [1, 2, 3, 4, 5, 6, 7, 8, 9, 10],\n",
       " array([ 1.,  2.,  3.,  4.,  5.,  6.,  7.,  8.,  9., 10.]))"
      ]
     },
     "execution_count": 7,
     "metadata": {},
     "output_type": "execute_result"
    }
   ],
   "source": [
    "list_1 = np.arange(1,11,1) #Often used in for loops\n",
    "\n",
    "list_2 = [1,2,3,4,5,6,7,8,9,10] #Not very efficient\n",
    "\n",
    "list_3 = np.linspace(1,10,10) #Usually used to define timespans when doing integrations\n",
    "\n",
    "list_1, list_2, list_3"
   ]
  },
  {
   "cell_type": "markdown",
   "metadata": {},
   "source": [
    "Now let's say you want to insert all the values in `list_3` into our `Volum_of_sphere` function. Many of you, especially those coming from other porgramming languages, will do it with a loop, as shown below."
   ]
  },
  {
   "cell_type": "code",
   "execution_count": 8,
   "metadata": {},
   "outputs": [
    {
     "name": "stdout",
     "output_type": "stream",
     "text": [
      "4.1887902047863905\n",
      "33.510321638291124\n",
      "113.09733552923254\n",
      "268.082573106329\n",
      "523.5987755982989\n",
      "904.7786842338603\n",
      "1436.7550402417319\n",
      "2144.660584850632\n",
      "3053.6280592892786\n",
      "4188.790204786391\n"
     ]
    }
   ],
   "source": [
    "for i in list_3:\n",
    "    print(Volume_of_sphere(i))"
   ]
  },
  {
   "cell_type": "markdown",
   "metadata": {},
   "source": [
    "But doing it this way defeats the entire purpose of using a numpy array. Numpy was purposefully built to make mathematical operations a breeze. One can, in this example, just simply put `list_3` straight in to your function. **Note** You can not do this with lists, only arrays."
   ]
  },
  {
   "cell_type": "code",
   "execution_count": 11,
   "metadata": {},
   "outputs": [
    {
     "data": {
      "text/plain": [
       "array([4.18879020e+00, 3.35103216e+01, 1.13097336e+02, 2.68082573e+02,\n",
       "       5.23598776e+02, 9.04778684e+02, 1.43675504e+03, 2.14466058e+03,\n",
       "       3.05362806e+03, 4.18879020e+03])"
      ]
     },
     "execution_count": 11,
     "metadata": {},
     "output_type": "execute_result"
    }
   ],
   "source": [
    "Volume_of_sphere(list_3)"
   ]
  },
  {
   "cell_type": "markdown",
   "metadata": {},
   "source": [
    "Now we would like to plot this data. For this we must import another library:"
   ]
  },
  {
   "cell_type": "code",
   "execution_count": 12,
   "metadata": {},
   "outputs": [],
   "source": [
    "import matplotlib.pyplot as plt"
   ]
  },
  {
   "cell_type": "markdown",
   "metadata": {},
   "source": [
    "Now below is how many of you would go and try and get the results of the volume function in to a list. "
   ]
  },
  {
   "cell_type": "code",
   "execution_count": 8,
   "metadata": {},
   "outputs": [
    {
     "data": {
      "text/plain": [
       "[4.1887902047863905,\n",
       " 33.510321638291124,\n",
       " 113.09733552923254,\n",
       " 268.082573106329,\n",
       " 523.5987755982989,\n",
       " 904.7786842338603,\n",
       " 1436.7550402417319,\n",
       " 2144.660584850632,\n",
       " 3053.6280592892786,\n",
       " 4188.790204786391]"
      ]
     },
     "execution_count": 8,
     "metadata": {},
     "output_type": "execute_result"
    }
   ],
   "source": [
    "Volumes_noob = [] #Create an empty list\n",
    "for i in list_3:\n",
    "    Volumes_noob.append(Volume_of_sphere(i)) #The values are appended to the list\n",
    "Volumes_noob"
   ]
  },
  {
   "cell_type": "markdown",
   "metadata": {},
   "source": [
    "But **NO**!! Firstly, as you saw, when you pass an array through the function an array is returned. No need for any looping!! No need to generate a list. Secondly, `append` is slow. If you have to pass the values using a for loop, and you need to make a new list from the results, then might I suggest the beautiful list comprehension. It is shown below"
   ]
  },
  {
   "cell_type": "code",
   "execution_count": 13,
   "metadata": {},
   "outputs": [
    {
     "data": {
      "text/plain": [
       "[4.1887902047863905,\n",
       " 33.510321638291124,\n",
       " 113.09733552923254,\n",
       " 268.082573106329,\n",
       " 523.5987755982989,\n",
       " 904.7786842338603,\n",
       " 1436.7550402417319,\n",
       " 2144.660584850632,\n",
       " 3053.6280592892786,\n",
       " 4188.790204786391]"
      ]
     },
     "execution_count": 13,
     "metadata": {},
     "output_type": "execute_result"
    }
   ],
   "source": [
    "Volumes_pro = [Volume_of_sphere(i) for i in list_3] #You let the for loop run in the list itself\n",
    "Volumes_pro"
   ]
  },
  {
   "cell_type": "markdown",
   "metadata": {},
   "source": [
    "So what happens here is that the values are being laid out within the list, thus there is no need to append anything. This is so much faster as the values do need to be passed through the `append` function. It is also just one line, and is less typing. Win for us all. One can do very complex loops in list comprehensions, from mutliple for loop, conditional statements and many more. I suggest you read up about it on your own time. But as stated, in this example, the array method is the fastest and the best, so we are going to use that"
   ]
  },
  {
   "cell_type": "code",
   "execution_count": 14,
   "metadata": {
    "scrolled": true
   },
   "outputs": [
    {
     "data": {
      "text/plain": [
       "array([4.18879020e+00, 3.35103216e+01, 1.13097336e+02, 2.68082573e+02,\n",
       "       5.23598776e+02, 9.04778684e+02, 1.43675504e+03, 2.14466058e+03,\n",
       "       3.05362806e+03, 4.18879020e+03])"
      ]
     },
     "execution_count": 14,
     "metadata": {},
     "output_type": "execute_result"
    }
   ],
   "source": [
    "Volumes = Volume_of_sphere(list_3)\n",
    "Volumes"
   ]
  },
  {
   "cell_type": "markdown",
   "metadata": {},
   "source": [
    "Now for some plotting"
   ]
  },
  {
   "cell_type": "code",
   "execution_count": 15,
   "metadata": {},
   "outputs": [
    {
     "data": {
      "image/png": "[encoded data removed]",
      "text/plain": [
       "<Figure size 432x504 with 1 Axes>"
      ]
     },
     "metadata": {
      "needs_background": "light"
     },
     "output_type": "display_data"
    }
   ],
   "source": [
    "plt.figure(1,[6,7]) #First argument represents figure number, the second argument sizes the plot\n",
    "plt.plot(list_3,Volumes, label = 'Sphere', color = 'r')\n",
    "plt.xlabel('Radius', fontsize = 12)\n",
    "plt.ylabel('Volume', fontsize = 12)\n",
    "plt.legend(loc='best') #Legend automatically goes to the optimal location\n",
    "plt.show()"
   ]
  },
  {
   "cell_type": "markdown",
   "metadata": {},
   "source": [
    "Let look at another function now:\n",
    "$$Money = 3Time^3 - 50^2 + 500Time + 25000 $$"
   ]
  },
  {
   "cell_type": "code",
   "execution_count": 16,
   "metadata": {},
   "outputs": [],
   "source": [
    "Time = np.linspace(0,50,101)"
   ]
  },
  {
   "cell_type": "markdown",
   "metadata": {},
   "source": [
    "Firstly when using linspace it is often beneficial to divide your time using a large number of increments plus one, it results in:"
   ]
  },
  {
   "cell_type": "code",
   "execution_count": 17,
   "metadata": {},
   "outputs": [
    {
     "data": {
      "text/plain": [
       "array([ 0. ,  0.5,  1. ,  1.5,  2. ,  2.5,  3. ,  3.5,  4. ,  4.5,  5. ,\n",
       "        5.5,  6. ,  6.5,  7. ,  7.5,  8. ,  8.5,  9. ,  9.5, 10. , 10.5,\n",
       "       11. , 11.5, 12. , 12.5, 13. , 13.5, 14. , 14.5, 15. , 15.5, 16. ,\n",
       "       16.5, 17. , 17.5, 18. , 18.5, 19. , 19.5, 20. , 20.5, 21. , 21.5,\n",
       "       22. , 22.5, 23. , 23.5, 24. , 24.5, 25. , 25.5, 26. , 26.5, 27. ,\n",
       "       27.5, 28. , 28.5, 29. , 29.5, 30. , 30.5, 31. , 31.5, 32. , 32.5,\n",
       "       33. , 33.5, 34. , 34.5, 35. , 35.5, 36. , 36.5, 37. , 37.5, 38. ,\n",
       "       38.5, 39. , 39.5, 40. , 40.5, 41. , 41.5, 42. , 42.5, 43. , 43.5,\n",
       "       44. , 44.5, 45. , 45.5, 46. , 46.5, 47. , 47.5, 48. , 48.5, 49. ,\n",
       "       49.5, 50. ])"
      ]
     },
     "execution_count": 17,
     "metadata": {},
     "output_type": "execute_result"
    }
   ],
   "source": [
    "Time"
   ]
  },
  {
   "cell_type": "markdown",
   "metadata": {},
   "source": [
    "Instead of:"
   ]
  },
  {
   "cell_type": "code",
   "execution_count": 18,
   "metadata": {},
   "outputs": [
    {
     "data": {
      "text/plain": [
       "array([ 0.        ,  0.50505051,  1.01010101,  1.51515152,  2.02020202,\n",
       "        2.52525253,  3.03030303,  3.53535354,  4.04040404,  4.54545455,\n",
       "        5.05050505,  5.55555556,  6.06060606,  6.56565657,  7.07070707,\n",
       "        7.57575758,  8.08080808,  8.58585859,  9.09090909,  9.5959596 ,\n",
       "       10.1010101 , 10.60606061, 11.11111111, 11.61616162, 12.12121212,\n",
       "       12.62626263, 13.13131313, 13.63636364, 14.14141414, 14.64646465,\n",
       "       15.15151515, 15.65656566, 16.16161616, 16.66666667, 17.17171717,\n",
       "       17.67676768, 18.18181818, 18.68686869, 19.19191919, 19.6969697 ,\n",
       "       20.2020202 , 20.70707071, 21.21212121, 21.71717172, 22.22222222,\n",
       "       22.72727273, 23.23232323, 23.73737374, 24.24242424, 24.74747475,\n",
       "       25.25252525, 25.75757576, 26.26262626, 26.76767677, 27.27272727,\n",
       "       27.77777778, 28.28282828, 28.78787879, 29.29292929, 29.7979798 ,\n",
       "       30.3030303 , 30.80808081, 31.31313131, 31.81818182, 32.32323232,\n",
       "       32.82828283, 33.33333333, 33.83838384, 34.34343434, 34.84848485,\n",
       "       35.35353535, 35.85858586, 36.36363636, 36.86868687, 37.37373737,\n",
       "       37.87878788, 38.38383838, 38.88888889, 39.39393939, 39.8989899 ,\n",
       "       40.4040404 , 40.90909091, 41.41414141, 41.91919192, 42.42424242,\n",
       "       42.92929293, 43.43434343, 43.93939394, 44.44444444, 44.94949495,\n",
       "       45.45454545, 45.95959596, 46.46464646, 46.96969697, 47.47474747,\n",
       "       47.97979798, 48.48484848, 48.98989899, 49.49494949, 50.        ])"
      ]
     },
     "execution_count": 18,
     "metadata": {},
     "output_type": "execute_result"
    }
   ],
   "source": [
    "X = np.linspace(0,50,100)\n",
    "X"
   ]
  },
  {
   "cell_type": "code",
   "execution_count": 19,
   "metadata": {},
   "outputs": [
    {
     "data": {
      "image/png": "[encoded data removed]",
      "text/plain": [
       "<Figure size 432x288 with 1 Axes>"
      ]
     },
     "metadata": {
      "needs_background": "light"
     },
     "output_type": "display_data"
    }
   ],
   "source": [
    "Money = Time**3 - 50*Time**2 + 500*Time + 25000\n",
    "\n",
    "plt.plot(Time, Money, 'g')\n",
    "plt.xlabel('Time')\n",
    "plt.ylabel('Money')\n",
    "plt.show()"
   ]
  },
  {
   "cell_type": "markdown",
   "metadata": {},
   "source": [
    "Now to find points on the plot that you require. If you want to find the time when you have the lowest money use `np.argmin()`. It returns the index of the minimum. One can then use the index of the minimum of our y-value to find at which x-value is the minimum."
   ]
  },
  {
   "cell_type": "code",
   "execution_count": 27,
   "metadata": {},
   "outputs": [
    {
     "data": {
      "text/plain": [
       "27.0"
      ]
     },
     "execution_count": 27,
     "metadata": {},
     "output_type": "execute_result"
    }
   ],
   "source": [
    "min_index = np.argmin(Money)\n",
    "Time[min_index]"
   ]
  },
  {
   "cell_type": "markdown",
   "metadata": {},
   "source": [
    "The maximum can be found with `np.argmax()`:"
   ]
  },
  {
   "cell_type": "code",
   "execution_count": 28,
   "metadata": {},
   "outputs": [
    {
     "data": {
      "text/plain": [
       "50000.0"
      ]
     },
     "execution_count": 28,
     "metadata": {},
     "output_type": "execute_result"
    }
   ],
   "source": [
    "Money[np.argmax(Money)]"
   ]
  },
  {
   "cell_type": "markdown",
   "metadata": {},
   "source": [
    "Now let's say you want to find which time values gives money values that are not more than 1 from 30000. There are 2 ways, both of which have their pro's and cons.\n",
    "1. **The boolean array**: This method is clean and simple, and best if all you want to do is find the time values. If you do not know what a boolean is, it is simply a **True** or **False**. You can pass comparisons to a numpy array, such as array1 == 2, and a new array will be generated that says which variable in that array is equal to 2 or not using **True** or **False**. You can then index using that array. Look at the example below "
   ]
  },
  {
   "cell_type": "code",
   "execution_count": 29,
   "metadata": {},
   "outputs": [
    {
     "data": {
      "text/plain": [
       "array([False, False,  True, False,  True])"
      ]
     },
     "execution_count": 29,
     "metadata": {},
     "output_type": "execute_result"
    }
   ],
   "source": [
    "array1 = np.array([5, 6, 2, 7, 2])\n",
    "boolean_array = array1 == 2\n",
    "boolean_array #This is an array of booleans. See how where there is a 2 in array 1 there is a True in this array."
   ]
  },
  {
   "cell_type": "code",
   "execution_count": 30,
   "metadata": {},
   "outputs": [
    {
     "data": {
      "text/plain": [
       "array([9, 6])"
      ]
     },
     "execution_count": 30,
     "metadata": {},
     "output_type": "execute_result"
    }
   ],
   "source": [
    "array2 = np.array([3, 8, 9, 4, 6])\n",
    "array2[boolean_array] "
   ]
  },
  {
   "cell_type": "markdown",
   "metadata": {},
   "source": [
    "As one can see above, there is a **True** at index 2 and 4 in the boolean array. One can then use this array for indexing another array, where as you can see, the values at index 2 and 4 are returned for array2. This is called fancy indexing.\n",
    "\n",
    "2. The second method uses `np.where`. What it does is return the index values where the comparison is **True**. Look at the example below"
   ]
  },
  {
   "cell_type": "code",
   "execution_count": 31,
   "metadata": {},
   "outputs": [
    {
     "data": {
      "text/plain": [
       "((array([2, 4], dtype=int64),), array([2, 4], dtype=int64))"
      ]
     },
     "execution_count": 31,
     "metadata": {},
     "output_type": "execute_result"
    }
   ],
   "source": [
    "where_array = np.where(array1 == 2)\n",
    "where_array, where_array[0] #an array within parenthesis is returned, thus you need to use [0] to get just the array"
   ]
  },
  {
   "cell_type": "code",
   "execution_count": 32,
   "metadata": {},
   "outputs": [
    {
     "data": {
      "text/plain": [
       "array([9, 6])"
      ]
     },
     "execution_count": 32,
     "metadata": {},
     "output_type": "execute_result"
    }
   ],
   "source": [
    "array2[where_array[0]]"
   ]
  },
  {
   "cell_type": "markdown",
   "metadata": {},
   "source": [
    "Using fancy indexing again, you can get the same result. `np.where` has the advantage of returning the exact points at which the condition is True, as well as making it easy to determine how many of the values meet the condition. Its drawback is that it is a bit more typing and less clean. You can use either method, or both, you decide. \n",
    "\n",
    "For our original question, we want to find the time values that gives money values that are not more than 1 from 30000. "
   ]
  },
  {
   "cell_type": "code",
   "execution_count": null,
   "metadata": {},
   "outputs": [],
   "source": [
    "Time = np.linspace(0,50,10001)\n",
    "Money = Time**3 - 50*Time**2 + 500*Time + 25000"
   ]
  },
  {
   "cell_type": "code",
   "execution_count": 42,
   "metadata": {},
   "outputs": [
    {
     "data": {
      "text/plain": [
       "array([40.74])"
      ]
     },
     "execution_count": 42,
     "metadata": {},
     "output_type": "execute_result"
    }
   ],
   "source": [
    "#Boolean\n",
    "Time[abs(Money - 30000) < 1]"
   ]
  },
  {
   "cell_type": "code",
   "execution_count": 43,
   "metadata": {},
   "outputs": [
    {
     "data": {
      "text/plain": [
       "array([40.74])"
      ]
     },
     "execution_count": 43,
     "metadata": {},
     "output_type": "execute_result"
    }
   ],
   "source": [
    "#np.where\n",
    "Time[np.where(abs(Money - 30000) < 1)[0]]"
   ]
  },
  {
   "cell_type": "markdown",
   "metadata": {},
   "source": [
    "The boolean method is just quicker typing "
   ]
  },
  {
   "cell_type": "markdown",
   "metadata": {},
   "source": [
    "## 2. The slider module"
   ]
  },
  {
   "cell_type": "markdown",
   "metadata": {},
   "source": [
    "<div style=\"text-align: justify\"> Often, one would want to change a value in a code in real time see what is changing on a graph when specific variables are changed. The $ipywidgets$ module allows one to create sliders where you can interact with the graph, changing values to see what the graph will do.</div>"
   ]
  },
  {
   "cell_type": "code",
   "execution_count": 44,
   "metadata": {},
   "outputs": [],
   "source": [
    "import matplotlib.pyplot as plt\n",
    "from ipywidgets import widgets, interact"
   ]
  },
  {
   "cell_type": "markdown",
   "metadata": {},
   "source": [
    "<div style=\"text-align: justify\">Let's say we want to randomly place dots onto an axis, and we want to vary the number of dots between 1 dot and 100 dots, and on top of that we want to change the colours of the dots as we please. We will first write a function that makes this scatter plot. </div>\n"
   ]
  },
  {
   "cell_type": "code",
   "execution_count": 45,
   "metadata": {},
   "outputs": [],
   "source": [
    "def dotty_amateur(dots, colour):\n",
    "    a, b = [], []\n",
    "    for i in range(dots):\n",
    "        a.append(np.random.randint(1,100))\n",
    "        b.append(np.random.randint(1,100))\n",
    "    plt.scatter(a,b, c=colour)\n",
    "    return()"
   ]
  },
  {
   "cell_type": "markdown",
   "metadata": {},
   "source": [
    "### Pythonese"
   ]
  },
  {
   "cell_type": "markdown",
   "metadata": {},
   "source": [
    "Let us take a quick side break from the `ipywidget` module. As you can see above, this function has a loop with `append`. The dots values will determine how many times the loop runs, and thus how many random integers are made (that is what the `np.random.randint` function does, it generates a random integer). But if one was fluent in pythonese, one could do this much faster and cleaner. \n",
    "\n",
    "Most of you will know that '?' and `help` will open the documentation of functions, but there is an even quicker way. If you have typed a function, such as `np.random.randint`, you can then just press Shift+Tab, and the documentation will pop up. To access the entire documentation, just press the +.\n",
    "\n",
    "Now what does the `np.random.randint()` documentation tell you? First look at the syntax\n",
    "\n",
    "`randint(low, high=None, size=None, dtype=int)`\n",
    "\n",
    "As you can see, there is a size parameter, its default is None. If you scroll down and read what the parameter size does you get\n",
    "\n",
    "`size : int or tuple of ints, optional\n",
    "       Output shape.  If the given shape is, e.g., ``(m, n, k)``, then\n",
    "       ``m * n * k`` samples are drawn.  Default is None, in which case a\n",
    "       single value is returned.`\n",
    "    \n",
    "I understand that what you read here is a bit daunting, but just look. As you can see here, you can set the exact size and shape of the array you want returned. If you want an array of 100 random values, you can just type `size = 100`. If you want a 2x5 array, you just type `size = (2, 5)`. This will give an array with 2 rows and 5 columns filled with random integers. For those wondering what is a tuple, () are tuples, just as [] are lists. \n",
    "\n",
    "Also note in the syntax that some parameters has a = sign already. It means that the parameter is optional and that it already has an automatic value assigned to it. You too can add this feature to your own functions.\n",
    "\n",
    "Using the size parameter, you remove the need for any loops, as shown below\n"
   ]
  },
  {
   "cell_type": "code",
   "execution_count": 51,
   "metadata": {},
   "outputs": [],
   "source": [
    "def dotty_plus_ultra(dots, colour):\n",
    "    a = np.random.randint(1,100, size = dots)\n",
    "    b = np.random.randint(1,100 , size = dots)\n",
    "    plt.scatter(a,b, c=colour)\n",
    "    return"
   ]
  },
  {
   "cell_type": "markdown",
   "metadata": {},
   "source": [
    "Learning how to read python documentation, and actually putting out the time to learn about the modules you are using, is a massive advantage and will make your life a million times easier. Put some time out, read about the default functions in python, read numpy's and scipy's documentation, it will change your life for the better. Every new thing is a tool that makes you more capable of solving problems efficiently."
   ]
  },
  {
   "cell_type": "markdown",
   "metadata": {},
   "source": [
    "Back to the `interact` module. The interact module takes the function (in this case the dotty function) and then the variables in the function must be given parameters to vary by, and the steps. The minimum, maximum and the steps inbetween! So the two variables in the dotty function are dots (the number of dots) and colour (the colour of the dots). We want the number of dots to be between 1 and 100 and we want to be able to vary them by 1 dot each time! The colour is read in a string and a dropdown in created to swop between the colours.</div>"
   ]
  },
  {
   "cell_type": "code",
   "execution_count": 52,
   "metadata": {
    "scrolled": true
   },
   "outputs": [
    {
     "data": {
      "application/vnd.jupyter.widget-view+json": {
       "model_id": "d64d3848e02943e48edf5fcf4dca6d99",
       "version_major": 2,
       "version_minor": 0
      },
      "text/plain": [
       "interactive(children=(IntSlider(value=50, description='dots', min=1), Dropdown(description='colour', options=(…"
      ]
     },
     "metadata": {},
     "output_type": "display_data"
    },
    {
     "data": {
      "text/plain": [
       "<function __main__.dotty_plus_ultra(dots, colour)>"
      ]
     },
     "execution_count": 52,
     "metadata": {},
     "output_type": "execute_result"
    }
   ],
   "source": [
    "interact(dotty_plus_ultra, dots=(1,100,1), colour=['gray', 'green', 'purple'])"
   ]
  },
  {
   "cell_type": "markdown",
   "metadata": {},
   "source": [
    "Note that if you give number values in a tuple, or ( ), it will automatic build a range, and here we assigned the step size as 1. Strings given in a list will be made into a dropdown list. For more info go and read the documentation at https://ipywidgets.readthedocs.io/en/stable/user_guide.html"
   ]
  },
  {
   "cell_type": "markdown",
   "metadata": {},
   "source": [
    "<div style=\"text-align: justify\">Bacterial growth is simply described using the following equation $P = P_{o}e^{rt}$. Where $P_{o}$ is the initial bacterial colony population, $r$ is the growth rate in percent, $t$ is time and $P$ is the final population. Let us see, by changing the initial population and the rate, in different combinations will affect the final population.</div>"
   ]
  },
  {
   "cell_type": "code",
   "execution_count": 53,
   "metadata": {},
   "outputs": [],
   "source": [
    "t=np.arange(0,11,1) #Days"
   ]
  },
  {
   "cell_type": "code",
   "execution_count": 54,
   "metadata": {},
   "outputs": [],
   "source": [
    "def Bacteria(r, Po): #r is a rate and is expressed as a %, Po is the initial population\n",
    "    P = Po*np.e**(r*t)\n",
    "    plt.plot(t, P, 'r')\n",
    "    plt.xlabel('Time [Days]')\n",
    "    plt.ylabel('Final Population')\n",
    "    return()"
   ]
  },
  {
   "cell_type": "code",
   "execution_count": 55,
   "metadata": {},
   "outputs": [
    {
     "data": {
      "application/vnd.jupyter.widget-view+json": {
       "model_id": "839e1182028b4e1aa4c3a7ca7787fd16",
       "version_major": 2,
       "version_minor": 0
      },
      "text/plain": [
       "interactive(children=(FloatSlider(value=0.0, description='r', max=1.0, step=0.01), IntSlider(value=5, descript…"
      ]
     },
     "metadata": {},
     "output_type": "display_data"
    },
    {
     "data": {
      "text/plain": [
       "<function __main__.Bacteria(r, Po)>"
      ]
     },
     "execution_count": 55,
     "metadata": {},
     "output_type": "execute_result"
    }
   ],
   "source": [
    "interact(Bacteria, r=(0,1,0.01), Po=(1,10,1))"
   ]
  },
  {
   "cell_type": "markdown",
   "metadata": {},
   "source": [
    "Now, let us say we have a 2L tank where we can grow bacteria, and just for simplification let's say 1000 bacteria fill 100 mL. There are 3 types of bacteria: Lonestarium (r=0.25), Marium (r=0.1) and Reubinia (r=0.4), each having different growth rates, but all start with 100 bacterial cells. When will (in days) each tank be full? Write a code for this problem using the ipywidgets module: make a drop down to change between the different bacteria and vary time to come to the answer. Have a way of visually seeing when the tank is full."
   ]
  },
  {
   "cell_type": "markdown",
   "metadata": {},
   "source": [
    "## 3. Matrix math\n",
    "\n",
    "Another very important tool on Python is matrix math. When faced with a lot of equations that need to be solved simulatneously, a matrix is a fast and easy method to find the solution. To use matrices in Python, we only need the numpy library.\n",
    "\n",
    "Let's say we have the following equations:\n",
    "\n",
    "- x+2y-z = 1\n",
    "- 7x - y = 2\n",
    "- 2x + 2y -z = 0\n",
    "\n",
    "We can write a coefficient matrix **A** based on this:"
   ]
  },
  {
   "cell_type": "code",
   "execution_count": 56,
   "metadata": {},
   "outputs": [
    {
     "data": {
      "text/plain": [
       "matrix([[ 1,  2, -1],\n",
       "        [ 7, -1,  0],\n",
       "        [ 2,  2, -1]])"
      ]
     },
     "execution_count": 56,
     "metadata": {},
     "output_type": "execute_result"
    }
   ],
   "source": [
    "                #x  y  z\n",
    "A = np.matrix ([[1, 2,-1],  #Equation 1\n",
    "                [7,-1, 0],  #Equation 2\n",
    "                [2, 2,-1]]) #Equation 3\n",
    "\n",
    "A"
   ]
  },
  {
   "cell_type": "markdown",
   "metadata": {},
   "source": [
    "You do not need to specify `np.matrix`, `np.array` is sufficient and will do the same thing,\n",
    "\n",
    "To solve the matrix we need to do some matrix math: $\\mathbf{A}\\mathbf{x} = \\mathbf{b}$ then $\\mathbf{x} = \\mathbf{A}^{-1}\\mathbf{b}$. An important thing to note is the shape of your **b** matrix. If you remember with matrix multiplication, the columns in matrix 1 needs to be equal to the amount of rows in matrix 2. If you were to write **b** as a 1D array, it will have just 1 row and 3 columns, where if you look at **A**, **b** must actually have 3 rows. One way to get around this is to write **b** as a 1D array, and then transposing it using `.T`."
   ]
  },
  {
   "cell_type": "code",
   "execution_count": 57,
   "metadata": {
    "scrolled": true
   },
   "outputs": [
    {
     "data": {
      "text/plain": [
       "matrix([[1],\n",
       "        [2],\n",
       "        [0]])"
      ]
     },
     "execution_count": 57,
     "metadata": {},
     "output_type": "execute_result"
    }
   ],
   "source": [
    "b = np.matrix([[1,2,0]]).T\n",
    "b"
   ]
  },
  {
   "cell_type": "markdown",
   "metadata": {},
   "source": [
    "You can then solve the equation using `np.linalg.solve`"
   ]
  },
  {
   "cell_type": "code",
   "execution_count": 58,
   "metadata": {},
   "outputs": [
    {
     "data": {
      "text/plain": [
       "matrix([[ -1.],\n",
       "        [ -9.],\n",
       "        [-20.]])"
      ]
     },
     "execution_count": 58,
     "metadata": {},
     "output_type": "execute_result"
    }
   ],
   "source": [
    "x = np.linalg.solve(A,b)\n",
    "x"
   ]
  },
  {
   "cell_type": "markdown",
   "metadata": {},
   "source": [
    "## 4.Importing data"
   ]
  },
  {
   "cell_type": "markdown",
   "metadata": {},
   "source": [
    "One very useful module in Python is Pandas. It allows you to read in large sets of data from a variety of sources including .csv, .xlsx and more. Once you have imported the data you have the ablility to manipulate the data with all the other useful python modules. It is often a lot more powerful than excel for data analysis."
   ]
  },
  {
   "cell_type": "code",
   "execution_count": 59,
   "metadata": {},
   "outputs": [],
   "source": [
    "import pandas\n",
    "import numpy as np"
   ]
  },
  {
   "cell_type": "code",
   "execution_count": 60,
   "metadata": {},
   "outputs": [],
   "source": [
    "matrix_data = pandas.read_excel('matrix.xlsx', header = None) # Try removing the header argument and see what happens"
   ]
  },
  {
   "cell_type": "markdown",
   "metadata": {},
   "source": [
    "Now with this data we can put it into a useable form with numpy and do all the same operations. This can be very useful when working with very large matrices as we will later in CBI."
   ]
  },
  {
   "cell_type": "code",
   "execution_count": 61,
   "metadata": {},
   "outputs": [],
   "source": [
    "A = np.matrix(matrix_data)"
   ]
  },
  {
   "cell_type": "code",
   "execution_count": 62,
   "metadata": {},
   "outputs": [
    {
     "data": {
      "text/plain": [
       "matrix([[ -1.],\n",
       "        [ -9.],\n",
       "        [-20.]])"
      ]
     },
     "execution_count": 62,
     "metadata": {},
     "output_type": "execute_result"
    }
   ],
   "source": [
    "x = np.linalg.solve(A,b)\n",
    "x"
   ]
  },
  {
   "cell_type": "markdown",
   "metadata": {},
   "source": [
    "Now to import some real data. See the **Data.csv** file. "
   ]
  },
  {
   "cell_type": "code",
   "execution_count": 63,
   "metadata": {},
   "outputs": [],
   "source": [
    "data = pandas.read_csv('Data.csv',sep = ';') # Depending on the csv the separator could be \",\" or \";\""
   ]
  },
  {
   "cell_type": "markdown",
   "metadata": {},
   "source": [
    "You are now able to call the data using the column names from the file. "
   ]
  },
  {
   "cell_type": "code",
   "execution_count": 64,
   "metadata": {},
   "outputs": [
    {
     "data": {
      "image/png": "[encoded data removed]",
      "text/plain": [
       "<Figure size 720x360 with 1 Axes>"
      ]
     },
     "metadata": {
      "needs_background": "light"
     },
     "output_type": "display_data"
    }
   ],
   "source": [
    "plt.figure(figsize=(10,5)) # With figsize you are able to adjust the size of the figures \n",
    "plt.plot(data[\"Time\"],data[\"Fumarate\"],'*r')\n",
    "plt.xlabel(\"Time (h)\")\n",
    "plt.ylabel(\"Fumarate (g/L)\")\n",
    "plt.show()"
   ]
  },
  {
   "cell_type": "markdown",
   "metadata": {},
   "source": [
    "Now plot the ethanol concentration from the sample data."
   ]
  },
  {
   "cell_type": "markdown",
   "metadata": {},
   "source": [
    "You can see that if you plot fumarate and ethanol on the same plot that you cannot clearly see the profile of ethanol. Plot each of them on their own axis. The following code is a good starting point. There are a variety of colors that you can plot with [here](https://matplotlib.org/stable/gallery/color/named_colors.html) is a list of most of them, simply use the argument \"color = 'color_name'\" to select for a color."
   ]
  },
  {
   "cell_type": "code",
   "execution_count": 65,
   "metadata": {},
   "outputs": [
    {
     "data": {
      "image/png": "[encoded data removed]",
      "text/plain": [
       "<Figure size 432x288 with 1 Axes>"
      ]
     },
     "metadata": {
      "needs_background": "light"
     },
     "output_type": "display_data"
    }
   ],
   "source": [
    "fig, ax1 = plt.subplots()"
   ]
  },
  {
   "cell_type": "markdown",
   "metadata": {},
   "source": [
    "The desired plot will look like this:\n",
    "<img src = \"plot.png\"/>"
   ]
  },
  {
   "cell_type": "markdown",
   "metadata": {},
   "source": [
    "## 5. Integrating functions\n",
    "\n",
    "In CBI310, you'll often have to integrate functions in order to see product profiles over time. To integrate functions, Python has a function in a library called `scipy`. The function is called `solve_ivp` and it is imported as shown below:"
   ]
  },
  {
   "cell_type": "code",
   "execution_count": 66,
   "metadata": {},
   "outputs": [],
   "source": [
    "from scipy.integrate import solve_ivp"
   ]
  },
  {
   "cell_type": "markdown",
   "metadata": {},
   "source": [
    "Please use `solve_ivp` instead of `odeint`. Odeint is outdated. So if you were fluent in pythonese, you would be able to learn the functionality of `solve_ivp` quickly. Unfortunately, few of us are that skilled. So here is a break down of its syntax.\n",
    "\n",
    "* **`fun`**: The actual function you want to integrate. **Do not** include the () of the function, just the name\n",
    "* **`t_span`**: The start and end of the range you want to integrate over. Must be given as 2 values in a list.\n",
    "* **`y0`**: The starting point. It must be 1D, so you need to put it into a list bracket  as [y0]\n",
    "* **`method`**: This will almost never be necessary to change. The default is the Runga Kutta you learned in WTW 263, called `\"RK45\"`. But, Runga Kutta has a weakness. It is an explicit method, and can not solve implicit equations. Read up about implicit differentials if you want to learn more. If you encounter a graph that is wavy and your code takes for ever, change the method to `\"Radua\"` or `\"BDF\"`. These are implicit methods.\n",
    "* **`t_eval`**: This is an array of t values where you want the y values returned. I prefer doing this outside of the function, as this can interfere with the programs self optimisation. See below.\n",
    "* **`dense_output`**: `solve_ivp` tries to keep its error low. But is also wants to save time. So it choses the largest steps it can take to stay within the error limit. This is a problem if you want many data points. Setting this to **`True`** will allow us to use the `.sol` function, and get the inbetween points. An alternative is the `t_eval` shown above\n",
    "* **`events`**: This is a little magical function where we can force stop the program once a certain threshold is surpassed. The function you write for the event will stop when the returned value hits 0. An example will be shown. A note on events. Your event function must have the same input parameters as your integration function. So for instance if you have `def int_fun(t, y, a):` you must have `def event_fun(t, y, a):` as well. \n",
    "* **`args`**: This is for all the parameters you have in you integration function beyond the t and y. So if you have `def fun(t, y, a):` and want to set a, you will do it as `args = (a,)`. You have to use a tuple, which is anything in (). If you have one parameter you have to add a ',' but if you have more you do not need to end with a comma.\n",
    "\n",
    "So when reading the docs, you not only need to read what the parameters are, but also what is returned. `solve_ivp()` does not just simply return a single array, it returns many things which you need to access yourself. Let's say you set `ans = solve_ivp(...stuffies...)`. These are the things that are returned\n",
    "\n",
    "* `ans.t` = This returns an array and the shapes of the array. The array is the t values that the function used to estimate the integration. **Note** This array tends to be very sparse, so do not use it for plots. Use your own t array with the `.sol` method.\n",
    "* `ans.y` =  This returns an array and the shapes of the array. The array is the corresponding y values of the t values.\n",
    "* `ans.t_events` = If you have an event specified, you can access the t value at which it is activated\n",
    "* `ans.y_events` = If you have an event specified, you can access the y value at which it is activated\n",
    "* `ans.sol()` =  This is what I prefer using. If dense ouput is set to **True**, you can use this. In here you can insert an array of t values that will return the correspoding y values. Use this for generating plots.\n",
    "\n"
   ]
  },
  {
   "cell_type": "markdown",
   "metadata": {},
   "source": [
    "Let's say we have a function for how your Money changes overtime:\n",
    "\n",
    "$$\\frac{dMoney}{dt} =  3t^3 - 50t^2 + 9t + 0.001(Money)$$"
   ]
  },
  {
   "cell_type": "code",
   "execution_count": 71,
   "metadata": {},
   "outputs": [],
   "source": [
    "#We can now define a function with will give us the change in money\n",
    "\n",
    "def equation(t, Money):\n",
    "    dmoney =  3*t**3 - 50*t**2 + 9*t + 0.001*(Money)\n",
    "    return dmoney"
   ]
  },
  {
   "cell_type": "markdown",
   "metadata": {},
   "source": [
    "Now that we have a function we can specify a starting amount and a certain amount of time that we would like to evaluate the function over:"
   ]
  },
  {
   "cell_type": "code",
   "execution_count": 72,
   "metadata": {},
   "outputs": [],
   "source": [
    "t_array = np.linspace(0,25,1001) #y --> We look at 25 years, thus our t_span will be [0, 25] \n",
    "M0 = 25000 #Initial amount"
   ]
  },
  {
   "cell_type": "code",
   "execution_count": 73,
   "metadata": {},
   "outputs": [],
   "source": [
    "Money = solve_ivp(equation, [0, 25], [M0], dense_output= True)"
   ]
  },
  {
   "cell_type": "markdown",
   "metadata": {},
   "source": [
    "As you can see below, the t values used are only 4, so thus plotting this is not sufficient. We will use the t_array we made."
   ]
  },
  {
   "cell_type": "code",
   "execution_count": 74,
   "metadata": {},
   "outputs": [
    {
     "data": {
      "text/plain": [
       "array([ 0.        ,  0.26508961,  2.91598568, 25.        ])"
      ]
     },
     "execution_count": 74,
     "metadata": {},
     "output_type": "execute_result"
    }
   ],
   "source": [
    "Money.t "
   ]
  },
  {
   "cell_type": "markdown",
   "metadata": {},
   "source": [
    "One inserts the t_array into the `.sol()`. This will make an array. **Warning**: The `.sol` returns a 2D array, not 1D, so you need to use [0] after your y value array to be able to plot it with your t_array."
   ]
  },
  {
   "cell_type": "code",
   "execution_count": 75,
   "metadata": {},
   "outputs": [
    {
     "data": {
      "text/plain": [
       "array([25000.        , 25000.62756021, 25001.25920277, ...,\n",
       "       60064.62160316, 60459.44809915, 60856.23664666])"
      ]
     },
     "execution_count": 75,
     "metadata": {},
     "output_type": "execute_result"
    }
   ],
   "source": [
    "Money_y_vals = Money.sol(t_array)\n",
    "Money_y_vals[0]"
   ]
  },
  {
   "cell_type": "code",
   "execution_count": 76,
   "metadata": {},
   "outputs": [
    {
     "data": {
      "image/png": "[encoded data removed]",
      "text/plain": [
       "<Figure size 432x288 with 1 Axes>"
      ]
     },
     "metadata": {
      "needs_background": "light"
     },
     "output_type": "display_data"
    }
   ],
   "source": [
    "plt.plot(t_array, Money_y_vals[0], 'g',label = 'Money') #notice the [0] indexing\n",
    "# plt.plot(tspan,Cb, label ='Cb')\n",
    "plt.legend(loc='best')\n",
    "plt.show()"
   ]
  },
  {
   "cell_type": "markdown",
   "metadata": {},
   "source": [
    "Maria is worried that the population is increasing too quickly and that would mean that the world's chocolate supply would be severely strained. She finds that the rate of population growth is given by the following equation:\n",
    "\n",
    "$$  \\frac{dP}{dt} = P_{o}e^{rt}  $$\n",
    "\n",
    "where:<br>\n",
    "<br>\n",
    "Po = the starting population <br>\n",
    "<br>\n",
    "r = % rate of growth <br>\n",
    "<br>\n",
    "t = the time (years) <br>\n",
    "<br>\n",
    "e = Euler's number"
   ]
  },
  {
   "cell_type": "markdown",
   "metadata": {},
   "source": [
    "Solve this differential equation using $\\texttt{solve_ivp}$ for an initial population of 7 billion people for 5 years with a % rate of growth of 1.1%"
   ]
  },
  {
   "cell_type": "markdown",
   "metadata": {},
   "source": [
    "Reuben tells Maria that the world's chocolate supply would only be in danger if the world's population reached 8 billion people. How many years would it take to reach this 'event'? "
   ]
  },
  {
   "cell_type": "code",
   "execution_count": 77,
   "metadata": {},
   "outputs": [],
   "source": [
    "#Let's define those constants\n",
    "Po = 7e9\n",
    "r = 0.011\n",
    "t = 20          #Pick an arbitrary number for time because we don't know what the solution will be\n",
    "end_p = 8e9     #This is the population when the chocolate supply would be in danger"
   ]
  },
  {
   "cell_type": "code",
   "execution_count": 78,
   "metadata": {},
   "outputs": [],
   "source": [
    "#We define the function just like before\n",
    "\n",
    "def ode_2(t, P, r):\n",
    "    \n",
    "    dpdt = Po*np.exp(r*t)\n",
    "    \n",
    "    return dpdt"
   ]
  },
  {
   "cell_type": "markdown",
   "metadata": {},
   "source": [
    "We will use an event that triggers when the population parameter reaches 8 billion. When we make the event function, keep in mind that it will stop the integration when the event function returns a 0. So here we want it to stop when the population hit 8 billion. Thus we return 8 billion minus the population. As the population grows it will eventually reach 8 billion. Notice that we have to say P[0], this is due to the fact that we give P0 in a list, and thus we need to take the value out of the list."
   ]
  },
  {
   "cell_type": "code",
   "execution_count": 82,
   "metadata": {},
   "outputs": [],
   "source": [
    "# Now we define an event, it takes the same inputs as the main function\n",
    "\n",
    "def event_1(t, P, r):\n",
    "    \n",
    "    return end_p - P[0]    #This will return a zero when the population being solved is equal to the target population"
   ]
  },
  {
   "cell_type": "code",
   "execution_count": 83,
   "metadata": {},
   "outputs": [],
   "source": [
    "t_span1 = np.linspace(0, t, 100)"
   ]
  },
  {
   "cell_type": "code",
   "execution_count": 84,
   "metadata": {},
   "outputs": [],
   "source": [
    "sol_2 = solve_ivp(ode_2, [0, t], [Po], dense_output=True, events = event_1, args= (r,))"
   ]
  },
  {
   "cell_type": "markdown",
   "metadata": {},
   "source": [
    "Now, we can find out when this 'event' will occur."
   ]
  },
  {
   "cell_type": "code",
   "execution_count": 85,
   "metadata": {},
   "outputs": [
    {
     "data": {
      "text/plain": [
       "[array([0.14274502])]"
      ]
     },
     "execution_count": 85,
     "metadata": {},
     "output_type": "execute_result"
    }
   ],
   "source": [
    "sol_2.t_events"
   ]
  },
  {
   "cell_type": "markdown",
   "metadata": {},
   "source": [
    "This is the point in time when the population will hit 8 billion. **Warning**: If using events and you want to plot, make your t_array using the t_events value. The function sometimes finds the t_event, but continues the integration of the t_span you specified."
   ]
  }
 ],
 "metadata": {
  "kernelspec": {
   "display_name": "Python 3",
   "language": "python",
   "name": "python3"
  },
  "language_info": {
   "codemirror_mode": {
    "name": "ipython",
    "version": 3
   },
   "file_extension": ".py",
   "mimetype": "text/x-python",
   "name": "python",
   "nbconvert_exporter": "python",
   "pygments_lexer": "ipython3",
   "version": "3.7.7"
  },
  "toc": {
   "base_numbering": 1,
   "nav_menu": {},
   "number_sections": true,
   "sideBar": true,
   "skip_h1_title": false,
   "title_cell": "Table of Contents",
   "title_sidebar": "Contents",
   "toc_cell": false,
   "toc_position": {},
   "toc_section_display": true,
   "toc_window_display": true
  }
 },
 "nbformat": 4,
 "nbformat_minor": 4
}
