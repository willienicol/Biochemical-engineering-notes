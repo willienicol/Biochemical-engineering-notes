{
 "cells": [
  {
   "cell_type": "markdown",
   "metadata": {},
   "source": [
    "# The Python toolbox\n",
    "\n",
    "This module requires you to be familiar with the Python environment in order to solve biochemical engineering problems.\n",
    "The tools needed to succesfully complete this module include: plotting, solving matrices, working with functions, and integrating functions in the Python environment. These tools will be used beyond CBI310 in your second semester and in your final year. Basic coding principles such as defining variables, writing for/while loops, and writing out mathematical formulas, are assumed to be knowledge aquired in MPR210. This tutorial aims to give you a short overview of the coding skills required throughout this module and gives you the opportunity to revise previously aqcuired coding knowledge."
   ]
  },
  {
   "cell_type": "markdown",
   "metadata": {},
   "source": [
    "### 1. Fundamentals\n",
    "When a problem statement is given, the first thing you should do is to translate words to mathematics. This is achieved through the definition of parameters, variables, and functions. The following example is supposed to remind you of the correct syntax to use when defining a function.\n",
    "\n",
    "Example:\n",
    "What is the volume of a sphere?\n",
    "- We know that the volume of a sphere is calculated by using: $V = 4/3*\\pi*r^{3}$"
   ]
  },
  {
   "cell_type": "code",
   "execution_count": 1,
   "metadata": {},
   "outputs": [],
   "source": [
    "import numpy as np #We need this library to use the functions in Python\n",
    "\n",
    "def Volume_of_sphere (r):\n",
    "    V = 4/3*np.pi*r**3\n",
    "    return V"
   ]
  },
  {
   "cell_type": "markdown",
   "metadata": {},
   "source": [
    "We can now use this function to calculate the volume of a sphere with any radius. Eg. r = 2, r = 4, and r = 10."
   ]
  },
  {
   "cell_type": "code",
   "execution_count": 2,
   "metadata": {},
   "outputs": [
    {
     "data": {
      "text/plain": [
       "(33.510321638291124, 268.082573106329, 4188.790204786391)"
      ]
     },
     "execution_count": 2,
     "metadata": {},
     "output_type": "execute_result"
    }
   ],
   "source": [
    "Volume_of_sphere(2), Volume_of_sphere(4), Volume_of_sphere(10)"
   ]
  },
  {
   "cell_type": "markdown",
   "metadata": {},
   "source": [
    "Rewriting this is inefficient coding. To make the code more efficient, we can use a for loop. This is illustrated below:"
   ]
  },
  {
   "cell_type": "code",
   "execution_count": 3,
   "metadata": {},
   "outputs": [
    {
     "name": "stdout",
     "output_type": "stream",
     "text": [
      "33.510321638291124\n",
      "268.082573106329\n",
      "4188.790204786391\n"
     ]
    }
   ],
   "source": [
    "for i in [2,4,10]:\n",
    "    print(Volume_of_sphere(i))"
   ]
  },
  {
   "cell_type": "markdown",
   "metadata": {},
   "source": [
    "Let's say we wanted to know the volume of spheres with radii from 1 to 10 with increments of 1. We can set up a list of these values in various ways. Below different methods are illustrated:"
   ]
  },
  {
   "cell_type": "code",
   "execution_count": 4,
   "metadata": {},
   "outputs": [
    {
     "data": {
      "text/plain": [
       "(array([ 1,  2,  3,  4,  5,  6,  7,  8,  9, 10]),\n",
       " [1, 2, 3, 4, 5, 6, 7, 8, 9, 10],\n",
       " array([ 1.,  2.,  3.,  4.,  5.,  6.,  7.,  8.,  9., 10.]))"
      ]
     },
     "execution_count": 4,
     "metadata": {},
     "output_type": "execute_result"
    }
   ],
   "source": [
    "list_1 = np.arange(1,11,1) #Often used in for loops\n",
    "\n",
    "list_2 = [1,2,3,4,5,6,7,8,9,10] #Not very efficient\n",
    "\n",
    "list_3 = np.linspace(1,10,10) #Usually used to define timespans when doing integrations\n",
    "\n",
    "list_1, list_2, list_3"
   ]
  },
  {
   "cell_type": "code",
   "execution_count": 5,
   "metadata": {},
   "outputs": [
    {
     "name": "stdout",
     "output_type": "stream",
     "text": [
      "4.1887902047863905\n",
      "33.510321638291124\n",
      "113.09733552923254\n",
      "268.082573106329\n",
      "523.5987755982989\n",
      "904.7786842338603\n",
      "1436.7550402417319\n",
      "2144.660584850632\n",
      "3053.6280592892786\n",
      "4188.790204786391\n"
     ]
    }
   ],
   "source": [
    "for i in list_3:\n",
    "    print(Volume_of_sphere(i))"
   ]
  },
  {
   "cell_type": "markdown",
   "metadata": {},
   "source": [
    "Now we would like to plot this data. For this we must import another library:"
   ]
  },
  {
   "cell_type": "code",
   "execution_count": 6,
   "metadata": {},
   "outputs": [],
   "source": [
    "import matplotlib.pyplot as plt"
   ]
  },
  {
   "cell_type": "markdown",
   "metadata": {},
   "source": [
    "We should also write the data to a list, this could be done in several ways as shown below:"
   ]
  },
  {
   "cell_type": "code",
   "execution_count": 7,
   "metadata": {},
   "outputs": [
    {
     "data": {
      "text/plain": [
       "[4.1887902047863905,\n",
       " 33.510321638291124,\n",
       " 113.09733552923254,\n",
       " 268.082573106329,\n",
       " 523.5987755982989,\n",
       " 904.7786842338603,\n",
       " 1436.7550402417319,\n",
       " 2144.660584850632,\n",
       " 3053.6280592892786,\n",
       " 4188.790204786391]"
      ]
     },
     "execution_count": 7,
     "metadata": {},
     "output_type": "execute_result"
    }
   ],
   "source": [
    "Volumes = [] #Create an empty list\n",
    "for i in list_3:\n",
    "    Volumes.append(Volume_of_sphere(i)) #The values are appended to the list\n",
    "Volumes"
   ]
  },
  {
   "cell_type": "code",
   "execution_count": 8,
   "metadata": {},
   "outputs": [
    {
     "data": {
      "text/plain": [
       "array([0., 0., 0., 0., 0., 0., 0., 0., 0., 0.])"
      ]
     },
     "execution_count": 8,
     "metadata": {},
     "output_type": "execute_result"
    }
   ],
   "source": [
    "Volumes2 = np.zeros(10) #The argument here represents the amount of values in the array = 'storage spaces'\n",
    "Volumes2 # We can also create an array of zeros and replace these values with the values we want"
   ]
  },
  {
   "cell_type": "code",
   "execution_count": 9,
   "metadata": {},
   "outputs": [
    {
     "data": {
      "text/plain": [
       "array([4.18879020e+00, 3.35103216e+01, 1.13097336e+02, 2.68082573e+02,\n",
       "       5.23598776e+02, 9.04778684e+02, 1.43675504e+03, 2.14466058e+03,\n",
       "       3.05362806e+03, 4.18879020e+03])"
      ]
     },
     "execution_count": 9,
     "metadata": {},
     "output_type": "execute_result"
    }
   ],
   "source": [
    "for i in list_1: #Here we should use np.arange for the list since the indices can't be floats, they must be integers\n",
    "    Volumes2[i-1] = Volume_of_sphere(i) #Remember that the first index is 0, not 1.\n",
    "Volumes2"
   ]
  },
  {
   "cell_type": "markdown",
   "metadata": {},
   "source": [
    "The list method is usually easier than the method that uses arrays. It is less prone to mistakes regarding indices.\n",
    "Now that the data is stored somewhere, it can be plotted."
   ]
  },
  {
   "cell_type": "code",
   "execution_count": 10,
   "metadata": {},
   "outputs": [
    {
     "data": {
      "image/png": "[encoded data removed]",
      "text/plain": [
       "<Figure size 432x504 with 1 Axes>"
      ]
     },
     "metadata": {
      "needs_background": "light"
     },
     "output_type": "display_data"
    }
   ],
   "source": [
    "plt.figure(1,[6,7]) #First argument represents figure number, the second argument sizes the plot\n",
    "plt.plot(list_3,Volumes, label = 'Sphere', color = 'r')\n",
    "plt.xlabel('Radius', fontsize = 12)\n",
    "plt.ylabel('Volume', fontsize = 12)\n",
    "plt.legend(loc='best') #Legend automatically goes to the optimal location\n",
    "plt.show()"
   ]
  },
  {
   "cell_type": "markdown",
   "metadata": {},
   "source": [
    "Let look at another function now:\n",
    "$$Money = 3Time^3 - 50^2 + 500Time + 25000 $$"
   ]
  },
  {
   "cell_type": "code",
   "execution_count": 11,
   "metadata": {},
   "outputs": [],
   "source": [
    "Time = np.linspace(0,50,101)"
   ]
  },
  {
   "cell_type": "markdown",
   "metadata": {},
   "source": [
    "Firstly when using linspace it is often beneficial to divide your time using a large number of increments plus one, it results in:"
   ]
  },
  {
   "cell_type": "code",
   "execution_count": 12,
   "metadata": {},
   "outputs": [
    {
     "data": {
      "text/plain": [
       "array([ 0. ,  0.5,  1. ,  1.5,  2. ,  2.5,  3. ,  3.5,  4. ,  4.5,  5. ,\n",
       "        5.5,  6. ,  6.5,  7. ,  7.5,  8. ,  8.5,  9. ,  9.5, 10. , 10.5,\n",
       "       11. , 11.5, 12. , 12.5, 13. , 13.5, 14. , 14.5, 15. , 15.5, 16. ,\n",
       "       16.5, 17. , 17.5, 18. , 18.5, 19. , 19.5, 20. , 20.5, 21. , 21.5,\n",
       "       22. , 22.5, 23. , 23.5, 24. , 24.5, 25. , 25.5, 26. , 26.5, 27. ,\n",
       "       27.5, 28. , 28.5, 29. , 29.5, 30. , 30.5, 31. , 31.5, 32. , 32.5,\n",
       "       33. , 33.5, 34. , 34.5, 35. , 35.5, 36. , 36.5, 37. , 37.5, 38. ,\n",
       "       38.5, 39. , 39.5, 40. , 40.5, 41. , 41.5, 42. , 42.5, 43. , 43.5,\n",
       "       44. , 44.5, 45. , 45.5, 46. , 46.5, 47. , 47.5, 48. , 48.5, 49. ,\n",
       "       49.5, 50. ])"
      ]
     },
     "execution_count": 12,
     "metadata": {},
     "output_type": "execute_result"
    }
   ],
   "source": [
    "Time"
   ]
  },
  {
   "cell_type": "markdown",
   "metadata": {},
   "source": [
    "Instead of:"
   ]
  },
  {
   "cell_type": "code",
   "execution_count": 13,
   "metadata": {},
   "outputs": [
    {
     "data": {
      "text/plain": [
       "array([ 0.        ,  0.50505051,  1.01010101,  1.51515152,  2.02020202,\n",
       "        2.52525253,  3.03030303,  3.53535354,  4.04040404,  4.54545455,\n",
       "        5.05050505,  5.55555556,  6.06060606,  6.56565657,  7.07070707,\n",
       "        7.57575758,  8.08080808,  8.58585859,  9.09090909,  9.5959596 ,\n",
       "       10.1010101 , 10.60606061, 11.11111111, 11.61616162, 12.12121212,\n",
       "       12.62626263, 13.13131313, 13.63636364, 14.14141414, 14.64646465,\n",
       "       15.15151515, 15.65656566, 16.16161616, 16.66666667, 17.17171717,\n",
       "       17.67676768, 18.18181818, 18.68686869, 19.19191919, 19.6969697 ,\n",
       "       20.2020202 , 20.70707071, 21.21212121, 21.71717172, 22.22222222,\n",
       "       22.72727273, 23.23232323, 23.73737374, 24.24242424, 24.74747475,\n",
       "       25.25252525, 25.75757576, 26.26262626, 26.76767677, 27.27272727,\n",
       "       27.77777778, 28.28282828, 28.78787879, 29.29292929, 29.7979798 ,\n",
       "       30.3030303 , 30.80808081, 31.31313131, 31.81818182, 32.32323232,\n",
       "       32.82828283, 33.33333333, 33.83838384, 34.34343434, 34.84848485,\n",
       "       35.35353535, 35.85858586, 36.36363636, 36.86868687, 37.37373737,\n",
       "       37.87878788, 38.38383838, 38.88888889, 39.39393939, 39.8989899 ,\n",
       "       40.4040404 , 40.90909091, 41.41414141, 41.91919192, 42.42424242,\n",
       "       42.92929293, 43.43434343, 43.93939394, 44.44444444, 44.94949495,\n",
       "       45.45454545, 45.95959596, 46.46464646, 46.96969697, 47.47474747,\n",
       "       47.97979798, 48.48484848, 48.98989899, 49.49494949, 50.        ])"
      ]
     },
     "execution_count": 13,
     "metadata": {},
     "output_type": "execute_result"
    }
   ],
   "source": [
    "X = np.linspace(0,50,100)\n",
    "X"
   ]
  },
  {
   "cell_type": "code",
   "execution_count": 14,
   "metadata": {},
   "outputs": [
    {
     "data": {
      "image/png": "[encoded data removed]",
      "text/plain": [
       "<Figure size 432x288 with 1 Axes>"
      ]
     },
     "metadata": {
      "needs_background": "light"
     },
     "output_type": "display_data"
    }
   ],
   "source": [
    "Money = Time**3 - 50*Time**2 + 500*Time + 25000\n",
    "\n",
    "plt.plot(Time, Money, 'g')\n",
    "plt.xlabel('Time')\n",
    "plt.ylabel('Money')\n",
    "plt.show()"
   ]
  },
  {
   "cell_type": "markdown",
   "metadata": {},
   "source": [
    "Now to find points on the plot that you require. If you want to find the time when you have the lowest money use np.argmin(). It returns the index of the minimum."
   ]
  },
  {
   "cell_type": "code",
   "execution_count": 15,
   "metadata": {},
   "outputs": [
    {
     "data": {
      "text/plain": [
       "27.0"
      ]
     },
     "execution_count": 15,
     "metadata": {},
     "output_type": "execute_result"
    }
   ],
   "source": [
    "Time[np.argmin(Money)]"
   ]
  },
  {
   "cell_type": "markdown",
   "metadata": {},
   "source": [
    "The maximum can be found with np.argmax():"
   ]
  },
  {
   "cell_type": "code",
   "execution_count": 16,
   "metadata": {},
   "outputs": [
    {
     "data": {
      "text/plain": [
       "50000.0"
      ]
     },
     "execution_count": 16,
     "metadata": {},
     "output_type": "execute_result"
    }
   ],
   "source": [
    "Money[np.argmax(Money)]"
   ]
  },
  {
   "cell_type": "markdown",
   "metadata": {},
   "source": [
    "If you wanted to find the Time for a specific value on a graph, for example the Money must be within 1 of 30000 but it is often necessary to use a large number of indices."
   ]
  },
  {
   "cell_type": "code",
   "execution_count": 17,
   "metadata": {},
   "outputs": [
    {
     "data": {
      "text/plain": [
       "40.74"
      ]
     },
     "execution_count": 17,
     "metadata": {},
     "output_type": "execute_result"
    }
   ],
   "source": [
    "Time = np.linspace(0,50,10001)\n",
    "Money = Time**3 - 50*Time**2 + 500*Time + 25000\n",
    "Time[np.where(abs(Money - 30000) < 1)[0][0]]"
   ]
  },
  {
   "cell_type": "markdown",
   "metadata": {},
   "source": [
    "np.where() finds an index that satisfied the condition that you give it. The [0][0] is simple to get rid of unnecessary brackets."
   ]
  },
  {
   "cell_type": "markdown",
   "metadata": {},
   "source": [
    "## 2. The slider module"
   ]
  },
  {
   "cell_type": "markdown",
   "metadata": {},
   "source": [
    "<div style=\"text-align: justify\"> Often, one would want to change a value in a code in real time see what is changing on a graph when specific variables are changed. The $ipywidgets$ module allows one to create sliders where you can interact with the graph, changing values to see what the graph will do.</div>"
   ]
  },
  {
   "cell_type": "code",
   "execution_count": 18,
   "metadata": {},
   "outputs": [],
   "source": [
    "import matplotlib.pyplot as plt\n",
    "from ipywidgets import widgets, interact"
   ]
  },
  {
   "cell_type": "markdown",
   "metadata": {},
   "source": [
    "<div style=\"text-align: justify\">Let's say we want to randomly place dots onto an axis, and we want to vary the number of dots between 1 dot and 100 dots, and on top of that we want to change the colours of the dots as we please. We will first write a function that makes this scatter plot. </div>"
   ]
  },
  {
   "cell_type": "code",
   "execution_count": 19,
   "metadata": {},
   "outputs": [],
   "source": [
    "def dotty(dots, colour):\n",
    "    a, b = [], []\n",
    "    for i in range(dots):\n",
    "        a.append(np.random.randint(1,100))\n",
    "        b.append(np.random.randint(1,100))\n",
    "    plt.scatter(a,b, c=colour)\n",
    "    return()"
   ]
  },
  {
   "cell_type": "markdown",
   "metadata": {},
   "source": [
    "<div style=\"text-align: justify\">Then we can use the $interact$ module. The interact module takes the function (in this case the dotty function) and then the variables in the function must be given parameters to vary by, and the steps. The minimum, maximum and the steps inbetween! So the two variables in the dotty function are dots (the number of dots) and colour (the colour of the dots). We want the number of dots to be between 1 and 100 and we want to be able to vary them by 1 dot each time! The colour is read in a string and a dropdown in created to swop between the colours.</div>"
   ]
  },
  {
   "cell_type": "code",
   "execution_count": 20,
   "metadata": {},
   "outputs": [
    {
     "data": {
      "application/vnd.jupyter.widget-view+json": {
       "model_id": "f9deb46246ec4aafaf55bd1e57170c22",
       "version_major": 2,
       "version_minor": 0
      },
      "text/plain": [
       "interactive(children=(IntSlider(value=50, description='dots', min=1), Dropdown(description='colour', options=(…"
      ]
     },
     "metadata": {},
     "output_type": "display_data"
    },
    {
     "data": {
      "text/plain": [
       "<function __main__.dotty(dots, colour)>"
      ]
     },
     "execution_count": 20,
     "metadata": {},
     "output_type": "execute_result"
    }
   ],
   "source": [
    "interact(dotty, dots=(1,100,1), colour=['gray', 'green', 'purple'])"
   ]
  },
  {
   "cell_type": "markdown",
   "metadata": {},
   "source": [
    "<div style=\"text-align: justify\">Bacterial growth is simply described using the following equation $P = P_{o}e^{rt}$. Where $P_{o}$ is the initial bacterial colony population, $r$ is the growth rate in percent, $t$ is time and $P$ is the final population. Let us see, by changing the initial population and the rate, in different combinations will affect the final population.</div>"
   ]
  },
  {
   "cell_type": "code",
   "execution_count": 21,
   "metadata": {},
   "outputs": [],
   "source": [
    "t=np.arange(0,11,1) #Days"
   ]
  },
  {
   "cell_type": "code",
   "execution_count": 22,
   "metadata": {},
   "outputs": [],
   "source": [
    "def Bacteria(r, Po): #r is a rate and is expressed as a %, Po is the initial population\n",
    "    P = Po*np.e**(r*t)\n",
    "    plt.plot(t, P, 'r')\n",
    "    plt.xlabel('Time [Days]')\n",
    "    plt.ylabel('Final Population')\n",
    "    return()"
   ]
  },
  {
   "cell_type": "code",
   "execution_count": 23,
   "metadata": {},
   "outputs": [
    {
     "data": {
      "application/vnd.jupyter.widget-view+json": {
       "model_id": "f01185f5b027408f85dbad3d6cb89f3e",
       "version_major": 2,
       "version_minor": 0
      },
      "text/plain": [
       "interactive(children=(FloatSlider(value=0.0, description='r', max=1.0, step=0.01), IntSlider(value=5, descript…"
      ]
     },
     "metadata": {},
     "output_type": "display_data"
    },
    {
     "data": {
      "text/plain": [
       "<function __main__.Bacteria(r, Po)>"
      ]
     },
     "execution_count": 23,
     "metadata": {},
     "output_type": "execute_result"
    }
   ],
   "source": [
    "interact(Bacteria, r=(0,1,0.01), Po=(1,10,1))"
   ]
  },
  {
   "cell_type": "markdown",
   "metadata": {},
   "source": [
    "Now, let us say we have a 2L tank where we can grow bacteria, and just for simplification let's say 1000 bacteria fill 100 mL. There are 3 types of bacteria: Lonestarium (r=0.25), Marium (r=0.1) and Reubinia (r=0.4), each having different growth rates, but all start with 100 bacterial cells. When will (in days) each tank be full? Write a code for this problem using the ipywidgets module: make a drop down to change between the different bacteria and vary time to come to the answer. Have a way of visually seeing when the tank is full."
   ]
  },
  {
   "cell_type": "markdown",
   "metadata": {},
   "source": [
    "## 3. Matrix math\n",
    "\n",
    "Another very important tool on Python is matrix math. When faced with a lot of equations that need to be solved simulatneously, a matrix is a fast and easy method to find the solution. To use matrices in Python, we only need the numpy library.\n",
    "\n",
    "Let's say we have the following equations:\n",
    "\n",
    "- x+2y-z = 1\n",
    "- 7x - y = 2\n",
    "- 2x + 2y -z = 0\n",
    "\n",
    "We can write a coefficient matrix (A) based on this:"
   ]
  },
  {
   "cell_type": "code",
   "execution_count": 30,
   "metadata": {},
   "outputs": [
    {
     "data": {
      "text/plain": [
       "matrix([[ 1,  2, -1],\n",
       "        [ 7, -1,  0],\n",
       "        [ 2,  2, -1]])"
      ]
     },
     "execution_count": 30,
     "metadata": {},
     "output_type": "execute_result"
    }
   ],
   "source": [
    "                #x  y  z\n",
    "A = np.matrix ([[1, 2,-1],  #Equation 1\n",
    "                [7,-1, 0],  #Equation 2\n",
    "                [2, 2,-1]]) #Equation 3\n",
    "\n",
    "A"
   ]
  },
  {
   "cell_type": "markdown",
   "metadata": {},
   "source": [
    "To solve the matrix we need to do some matrix math: $A*x = b$ then $A*b^{-1} = x$. This means we need to transpose our matrix b,\n",
    "we transpose the matrix to get it in the right format. Otherwise, the matrices won't allow you to solve for x,y, and z."
   ]
  },
  {
   "cell_type": "code",
   "execution_count": 31,
   "metadata": {},
   "outputs": [
    {
     "data": {
      "text/plain": [
       "matrix([[1],\n",
       "        [2],\n",
       "        [0]])"
      ]
     },
     "execution_count": 31,
     "metadata": {},
     "output_type": "execute_result"
    }
   ],
   "source": [
    "b = np.matrix([[1,2,0]]).T\n",
    "b"
   ]
  },
  {
   "cell_type": "code",
   "execution_count": 32,
   "metadata": {},
   "outputs": [
    {
     "data": {
      "text/plain": [
       "matrix([[ -1.],\n",
       "        [ -9.],\n",
       "        [-20.]])"
      ]
     },
     "execution_count": 32,
     "metadata": {},
     "output_type": "execute_result"
    }
   ],
   "source": [
    "x = np.linalg.solve(A,b)\n",
    "x"
   ]
  },
  {
   "cell_type": "markdown",
   "metadata": {},
   "source": [
    "## 4.Importing data"
   ]
  },
  {
   "cell_type": "markdown",
   "metadata": {},
   "source": [
    "One very useful module in Python is Pandas. It allows you to read in large sets of data from a variety of sources including .csv, .xlsx and more. Once you have imported the data you have the ablility to manipulate the data with all the other useful python modules. It is often a lot more powerful than excel for data analysis."
   ]
  },
  {
   "cell_type": "code",
   "execution_count": 33,
   "metadata": {},
   "outputs": [],
   "source": [
    "import pandas\n",
    "import numpy as np"
   ]
  },
  {
   "cell_type": "code",
   "execution_count": 34,
   "metadata": {},
   "outputs": [],
   "source": [
    "matrix_data = pandas.read_excel('matrix.xlsx', header = None) # Try removing the header argument and see what happens"
   ]
  },
  {
   "cell_type": "markdown",
   "metadata": {},
   "source": [
    "Now with this data we can put it into a useable form with numpy and do all the same operations. This can be very useful when working with very large matrices as we will later in CBI."
   ]
  },
  {
   "cell_type": "code",
   "execution_count": 35,
   "metadata": {},
   "outputs": [],
   "source": [
    "A = np.matrix(matrix_data)"
   ]
  },
  {
   "cell_type": "code",
   "execution_count": 36,
   "metadata": {},
   "outputs": [
    {
     "data": {
      "text/plain": [
       "matrix([[ -1.],\n",
       "        [ -9.],\n",
       "        [-20.]])"
      ]
     },
     "execution_count": 36,
     "metadata": {},
     "output_type": "execute_result"
    }
   ],
   "source": [
    "x = np.linalg.solve(A,b)\n",
    "x"
   ]
  },
  {
   "cell_type": "markdown",
   "metadata": {},
   "source": [
    "Now to import some real data. See the **Data.csv** file. "
   ]
  },
  {
   "cell_type": "code",
   "execution_count": 37,
   "metadata": {},
   "outputs": [],
   "source": [
    "data = pandas.read_csv('Data.csv',sep = ';') # Depending on the csv the separator could be \",\" or \";\""
   ]
  },
  {
   "cell_type": "markdown",
   "metadata": {},
   "source": [
    "You are now able to call the data using the column names from the file. "
   ]
  },
  {
   "cell_type": "code",
   "execution_count": 38,
   "metadata": {},
   "outputs": [
    {
     "data": {
      "image/png": "[encoded data removed]",
      "text/plain": [
       "<Figure size 720x360 with 1 Axes>"
      ]
     },
     "metadata": {
      "needs_background": "light"
     },
     "output_type": "display_data"
    }
   ],
   "source": [
    "plt.figure(figsize=(10,5)) # With figsize you are able to adjust the size of the figures \n",
    "plt.plot(data[\"Time\"],data[\"Fumarate\"],'*r')\n",
    "plt.xlabel(\"Time (h)\")\n",
    "plt.ylabel(\"Fumarate (g/L)\")\n",
    "plt.show()"
   ]
  },
  {
   "cell_type": "markdown",
   "metadata": {},
   "source": [
    "Now plot the ethanol concentration from the sample data."
   ]
  },
  {
   "cell_type": "markdown",
   "metadata": {},
   "source": [
    "You can see that if you plot fumarate and ethanol on the same plot that you cannot clearly see the profile of ethanol. Plot each of them on their own axis. The following code is a good starting point. There are a variety of colors that you can plot with [here](https://matplotlib.org/stable/gallery/color/named_colors.html) is a list of most of them, simply use the argument \"color = 'color_name'\" to select for a color."
   ]
  },
  {
   "cell_type": "code",
   "execution_count": 24,
   "metadata": {},
   "outputs": [
    {
     "data": {
      "image/png": "[encoded data removed]",
      "text/plain": [
       "<Figure size 432x288 with 1 Axes>"
      ]
     },
     "metadata": {
      "needs_background": "light"
     },
     "output_type": "display_data"
    }
   ],
   "source": [
    "fig, ax1 = plt.subplots()"
   ]
  },
  {
   "cell_type": "markdown",
   "metadata": {},
   "source": [
    "The desired plot will look like this:\n",
    "<img src = \"plot.png\"/>"
   ]
  },
  {
   "cell_type": "markdown",
   "metadata": {},
   "source": [
    "## 5. Integrating functions\n",
    "\n",
    "In CBI310, you'll often have to integrate functions in order to see product profiles over time. To integrate functions, Python has a function in a library called 'scipy'. The function is called 'odeint' and it is imported as shown below:"
   ]
  },
  {
   "cell_type": "code",
   "execution_count": 40,
   "metadata": {},
   "outputs": [],
   "source": [
    "from scipy.integrate import odeint"
   ]
  },
  {
   "cell_type": "markdown",
   "metadata": {},
   "source": [
    "Odeint takes three arguments:\n",
    "1. The fuction to be integrated\n",
    "2. The initial values of the variables\n",
    "3. The span over which the integration occurs\n",
    "\n",
    "Lets say we have a function for how your Money changes overtime:\n",
    "\n",
    "$$\\frac{dMoney}{dt} =  3t^3 - 50t^2 + 9t + 0.001(Money)$$"
   ]
  },
  {
   "cell_type": "code",
   "execution_count": 41,
   "metadata": {},
   "outputs": [],
   "source": [
    "#We can now define a function with will give us the change in money\n",
    "\n",
    "def equation(Money, t):\n",
    "    dmoney =  3*t**3 - 50*t**2 + 9*t + 0.001*(Money)\n",
    "    return dmoney"
   ]
  },
  {
   "cell_type": "markdown",
   "metadata": {},
   "source": [
    "Now that we have a function we can specify a starting amount and a certain amount of time that we would like to evaluate the function over:"
   ]
  },
  {
   "cell_type": "code",
   "execution_count": 42,
   "metadata": {},
   "outputs": [],
   "source": [
    "tspan = np.linspace(0,25,1001) #y --> We look at 25 years \n",
    "M0 = 25000 #Initial amount"
   ]
  },
  {
   "cell_type": "code",
   "execution_count": 43,
   "metadata": {},
   "outputs": [],
   "source": [
    "Money = odeint(equation,M0,tspan)"
   ]
  },
  {
   "cell_type": "code",
   "execution_count": 44,
   "metadata": {},
   "outputs": [
    {
     "data": {
      "image/png": "[encoded data removed]",
      "text/plain": [
       "<Figure size 432x288 with 1 Axes>"
      ]
     },
     "metadata": {
      "needs_background": "light"
     },
     "output_type": "display_data"
    }
   ],
   "source": [
    "plt.plot(tspan,Money, 'g',label = 'Money')\n",
    "# plt.plot(tspan,Cb, label ='Cb')\n",
    "plt.legend(loc='best')\n",
    "plt.show()"
   ]
  },
  {
   "cell_type": "markdown",
   "metadata": {},
   "source": [
    "This plot now gives us the money over time if it changes with the function given. But what happened here?"
   ]
  },
  {
   "cell_type": "markdown",
   "metadata": {},
   "source": [
    "Initially we started with Money = 25000 lets call this $t_0$. Then we wanted to work our how much money we would have at $t_1$."
   ]
  },
  {
   "cell_type": "code",
   "execution_count": 45,
   "metadata": {},
   "outputs": [],
   "source": [
    "Money0 = 25000 \n",
    "t0 = 0\n",
    "t1 = 0.5"
   ]
  },
  {
   "cell_type": "markdown",
   "metadata": {},
   "source": [
    "Now lets input it into the equation and calculate the change in money between $t_0$ and $t_1$:"
   ]
  },
  {
   "cell_type": "code",
   "execution_count": 46,
   "metadata": {},
   "outputs": [],
   "source": [
    "dmoney_dt =  3*t1**3 - 50*t1**2 + 9*t1 + 0.001*(Money0)"
   ]
  },
  {
   "cell_type": "markdown",
   "metadata": {},
   "source": [
    "Now to calculate the amount of money at $t_1$. We have to add the change to the original amount and multiple the above equation by $dt$"
   ]
  },
  {
   "cell_type": "code",
   "execution_count": 47,
   "metadata": {},
   "outputs": [
    {
     "data": {
      "text/plain": [
       "25008.6875"
      ]
     },
     "execution_count": 47,
     "metadata": {},
     "output_type": "execute_result"
    }
   ],
   "source": [
    "Money1 = Money0 + dmoney_dt*(t1 - t0)\n",
    "Money1"
   ]
  },
  {
   "cell_type": "markdown",
   "metadata": {},
   "source": [
    "This is what odeint does and is then repeated for each 1001 indices to generate the plot. The more indices the more accurate the plot will be."
   ]
  },
  {
   "cell_type": "markdown",
   "metadata": {},
   "source": [
    "## 6. Solve IVP"
   ]
  },
  {
   "cell_type": "markdown",
   "metadata": {},
   "source": [
    "Instead of $\\texttt{odeint}$, one could use $\\texttt{solve_ivp}$ instead. This function has a few more capabilities compared to $\\texttt{odeint}$ that will be discussed a little further down in this document. Just like $\\texttt{odeint}$, this function numerically integrates a system of ordinary differential equations given an initial value."
   ]
  },
  {
   "cell_type": "code",
   "execution_count": 50,
   "metadata": {},
   "outputs": [],
   "source": [
    "from scipy.integrate import solve_ivp  #solve_ivp is part of the scipy.integrate package"
   ]
  },
  {
   "cell_type": "markdown",
   "metadata": {},
   "source": [
    "Let's start with a simple example. We will solve the following ordinary differential equation:\n",
    "\n",
    "$$ \\frac{dx}{dt} = -0.5x$$ <br>\n",
    "$$ x(0) = 1 $$"
   ]
  },
  {
   "cell_type": "markdown",
   "metadata": {},
   "source": [
    "We first have to define a function that returns the equation"
   ]
  },
  {
   "cell_type": "code",
   "execution_count": 54,
   "metadata": {},
   "outputs": [],
   "source": [
    "def ode_1(t, x):     #Note that the inputs are t and x in that order\n",
    "    \n",
    "    dxdt = -0.5*x\n",
    "    \n",
    "    return dxdt"
   ]
  },
  {
   "cell_type": "markdown",
   "metadata": {},
   "source": [
    "Now, we can solve the ode with solve_ivp. The arguments for $\\texttt{solve_ivp}$ are in this order:<br>\n",
    "<br>\n",
    "The **function,[begin and end value], initial values, [t_span]**. So it is slightly different to  $\\texttt{odeint}$. Let's solve the example from time 0 to time 20."
   ]
  },
  {
   "cell_type": "code",
   "execution_count": 55,
   "metadata": {},
   "outputs": [],
   "source": [
    "#help(solve_ivp) #Run this code if you'd like to see all of the arguments for solve_ivp"
   ]
  },
  {
   "cell_type": "code",
   "execution_count": 56,
   "metadata": {},
   "outputs": [],
   "source": [
    "#This is the initial value, it has to be a list\n",
    "x_0 = [1]"
   ]
  },
  {
   "cell_type": "code",
   "execution_count": 57,
   "metadata": {},
   "outputs": [],
   "source": [
    "#Time periods\n",
    "begin = 0\n",
    "end = 20"
   ]
  },
  {
   "cell_type": "code",
   "execution_count": 58,
   "metadata": {},
   "outputs": [],
   "source": [
    "#t_span\n",
    "t_span = np.linspace(begin, end, 1000)"
   ]
  },
  {
   "cell_type": "code",
   "execution_count": 59,
   "metadata": {},
   "outputs": [],
   "source": [
    "sol_1  = solve_ivp(ode_1, [begin, end], x_0, t_eval = t_span) #Not that t_eval should start at the same initial and endpoint that you specify"
   ]
  },
  {
   "cell_type": "markdown",
   "metadata": {},
   "source": [
    "The answers for this solution are given as an array"
   ]
  },
  {
   "cell_type": "code",
   "execution_count": 60,
   "metadata": {},
   "outputs": [
    {
     "data": {
      "text/plain": [
       "array([1.00000000e+00, 9.90039923e-01, 9.80179050e-01, 9.70416391e-01,\n",
       "       9.60750970e-01, 9.51181817e-01, 9.41707957e-01, 9.32328142e-01,\n",
       "       9.23041362e-01, 9.13846742e-01, 9.04743416e-01, 8.95730520e-01,\n",
       "       8.86807200e-01, 8.77972604e-01, 8.69225887e-01, 8.60566212e-01,\n",
       "       8.51992745e-01, 8.43504658e-01, 8.35101131e-01, 8.26781347e-01,\n",
       "       8.18544497e-01, 8.10389777e-01, 8.02316388e-01, 7.94323538e-01,\n",
       "       7.86410440e-01, 7.78576314e-01, 7.70820384e-01, 7.63141881e-01,\n",
       "       7.55540042e-01, 7.48014108e-01, 7.40563329e-01, 7.33186957e-01,\n",
       "       7.25884253e-01, 7.18654482e-01, 7.11496915e-01, 7.04410829e-01,\n",
       "       6.97395508e-01, 6.90450239e-01, 6.83574318e-01, 6.76767044e-01,\n",
       "       6.70027724e-01, 6.63355669e-01, 6.56750198e-01, 6.50210632e-01,\n",
       "       6.43736303e-01, 6.37326544e-01, 6.30980697e-01, 6.24698108e-01,\n",
       "       6.18478130e-01, 6.12320120e-01, 6.06223443e-01, 6.00187468e-01,\n",
       "       5.94211572e-01, 5.88295135e-01, 5.82437545e-01, 5.76638195e-01,\n",
       "       5.70896482e-01, 5.65211813e-01, 5.59583597e-01, 5.54011251e-01,\n",
       "       5.48494196e-01, 5.43031860e-01, 5.37623677e-01, 5.32269085e-01,\n",
       "       5.26967190e-01, 5.21716962e-01, 5.16517967e-01, 5.11369780e-01,\n",
       "       5.06271976e-01, 5.01224133e-01, 4.96225832e-01, 4.91276653e-01,\n",
       "       4.86376180e-01, 4.81523999e-01, 4.76719696e-01, 4.71962859e-01,\n",
       "       4.67253080e-01, 4.62589950e-01, 4.57973063e-01, 4.53402016e-01,\n",
       "       4.48876405e-01, 4.44395830e-01, 4.39959892e-01, 4.35568194e-01,\n",
       "       4.31220340e-01, 4.26915937e-01, 4.22654594e-01, 4.18435919e-01,\n",
       "       4.14259526e-01, 4.10125026e-01, 4.06032036e-01, 4.01980173e-01,\n",
       "       3.97969055e-01, 3.93998303e-01, 3.90067540e-01, 3.86176390e-01,\n",
       "       3.82324478e-01, 3.78511432e-01, 3.74736882e-01, 3.71000458e-01,\n",
       "       3.67301795e-01, 3.63640527e-01, 3.60016291e-01, 3.56428724e-01,\n",
       "       3.52877467e-01, 3.49362161e-01, 3.45882452e-01, 3.42437983e-01,\n",
       "       3.39028403e-01, 3.35653360e-01, 3.32312505e-01, 3.29005490e-01,\n",
       "       3.25731971e-01, 3.22491602e-01, 3.19284043e-01, 3.16108952e-01,\n",
       "       3.12965991e-01, 3.09854823e-01, 3.06775114e-01, 3.03726530e-01,\n",
       "       3.00708739e-01, 2.97721412e-01, 2.94764222e-01, 2.91836841e-01,\n",
       "       2.88938945e-01, 2.86070213e-01, 2.83230322e-01, 2.80418955e-01,\n",
       "       2.77635794e-01, 2.74880523e-01, 2.72152828e-01, 2.69452398e-01,\n",
       "       2.66778923e-01, 2.64132094e-01, 2.61511605e-01, 2.58917150e-01,\n",
       "       2.56348427e-01, 2.53805135e-01, 2.51286973e-01, 2.48793645e-01,\n",
       "       2.46324853e-01, 2.43880305e-01, 2.41459708e-01, 2.39062771e-01,\n",
       "       2.36689204e-01, 2.34338722e-01, 2.32011039e-01, 2.29705871e-01,\n",
       "       2.27422937e-01, 2.25161956e-01, 2.22922650e-01, 2.20704744e-01,\n",
       "       2.18507962e-01, 2.16332034e-01, 2.14177082e-01, 2.12043172e-01,\n",
       "       2.09930128e-01, 2.07837774e-01, 2.05765935e-01, 2.03714439e-01,\n",
       "       2.01683110e-01, 1.99671779e-01, 1.97680271e-01, 1.95708418e-01,\n",
       "       1.93756048e-01, 1.91822993e-01, 1.89909083e-01, 1.88014152e-01,\n",
       "       1.86138031e-01, 1.84280556e-01, 1.82441559e-01, 1.80620878e-01,\n",
       "       1.78818347e-01, 1.77033803e-01, 1.75267085e-01, 1.73518029e-01,\n",
       "       1.71786477e-01, 1.70072267e-01, 1.68375239e-01, 1.66695237e-01,\n",
       "       1.65032101e-01, 1.63385674e-01, 1.61755801e-01, 1.60142325e-01,\n",
       "       1.58545093e-01, 1.56963949e-01, 1.55398742e-01, 1.53849317e-01,\n",
       "       1.52315524e-01, 1.50797212e-01, 1.49294230e-01, 1.47806430e-01,\n",
       "       1.46333661e-01, 1.44875778e-01, 1.43432632e-01, 1.42004077e-01,\n",
       "       1.40589967e-01, 1.39190159e-01, 1.37804507e-01, 1.36432868e-01,\n",
       "       1.35075101e-01, 1.33731062e-01, 1.32400612e-01, 1.31083610e-01,\n",
       "       1.29779916e-01, 1.28489392e-01, 1.27211901e-01, 1.25947304e-01,\n",
       "       1.24695465e-01, 1.23456249e-01, 1.22229521e-01, 1.21015147e-01,\n",
       "       1.19812994e-01, 1.18622928e-01, 1.17444819e-01, 1.16278535e-01,\n",
       "       1.15123946e-01, 1.13980922e-01, 1.12849335e-01, 1.11729056e-01,\n",
       "       1.10619959e-01, 1.09521918e-01, 1.08434805e-01, 1.07358497e-01,\n",
       "       1.06292870e-01, 1.05237799e-01, 1.04193163e-01, 1.03158840e-01,\n",
       "       1.02134708e-01, 1.01120647e-01, 1.00116538e-01, 9.91222623e-02,\n",
       "       9.81377011e-02, 9.71627376e-02, 9.61972552e-02, 9.52411383e-02,\n",
       "       9.42942719e-02, 9.33565418e-02, 9.24278347e-02, 9.15080378e-02,\n",
       "       9.05970393e-02, 8.96947445e-02, 8.88012128e-02, 8.79164083e-02,\n",
       "       8.70402578e-02, 8.61726885e-02, 8.53136281e-02, 8.44630044e-02,\n",
       "       8.36207455e-02, 8.27867800e-02, 8.19610366e-02, 8.11434444e-02,\n",
       "       8.03339330e-02, 7.95324319e-02, 7.87388715e-02, 7.79531819e-02,\n",
       "       7.71752939e-02, 7.64051386e-02, 7.56426473e-02, 7.48877516e-02,\n",
       "       7.41403835e-02, 7.34004753e-02, 7.26679596e-02, 7.19427694e-02,\n",
       "       7.12248378e-02, 7.05140984e-02, 6.98104852e-02, 6.91139322e-02,\n",
       "       6.84243741e-02, 6.77417456e-02, 6.70659819e-02, 6.63970184e-02,\n",
       "       6.57347909e-02, 6.50792355e-02, 6.44302887e-02, 6.37878870e-02,\n",
       "       6.31519677e-02, 6.25224680e-02, 6.18993256e-02, 6.12824786e-02,\n",
       "       6.06718652e-02, 6.00674240e-02, 5.94690940e-02, 5.88768145e-02,\n",
       "       5.82905251e-02, 5.77101656e-02, 5.71356762e-02, 5.65669976e-02,\n",
       "       5.60040704e-02, 5.54468360e-02, 5.48952357e-02, 5.43492114e-02,\n",
       "       5.38087052e-02, 5.32736595e-02, 5.27440171e-02, 5.22197209e-02,\n",
       "       5.17007146e-02, 5.11869416e-02, 5.06783460e-02, 5.01748722e-02,\n",
       "       4.96764649e-02, 4.91830688e-02, 4.86946295e-02, 4.82110924e-02,\n",
       "       4.77324035e-02, 4.72585090e-02, 4.67893554e-02, 4.63248897e-02,\n",
       "       4.58650590e-02, 4.54098108e-02, 4.49590930e-02, 4.45128536e-02,\n",
       "       4.40710412e-02, 4.36336044e-02, 4.32004924e-02, 4.27716546e-02,\n",
       "       4.23470407e-02, 4.19266007e-02, 4.15102850e-02, 4.10980443e-02,\n",
       "       4.06898295e-02, 4.02855920e-02, 3.98852833e-02, 3.94888555e-02,\n",
       "       3.90962607e-02, 3.87074516e-02, 3.83223810e-02, 3.79410021e-02,\n",
       "       3.75632685e-02, 3.71891456e-02, 3.68186615e-02, 3.64517961e-02,\n",
       "       3.60885193e-02, 3.57288008e-02, 3.53726106e-02, 3.50199188e-02,\n",
       "       3.46706955e-02, 3.43249112e-02, 3.39825363e-02, 3.36435414e-02,\n",
       "       3.33078973e-02, 3.29755748e-02, 3.26465449e-02, 3.23207788e-02,\n",
       "       3.19982478e-02, 3.16789232e-02, 3.13627766e-02, 3.10497796e-02,\n",
       "       3.07399040e-02, 3.04331217e-02, 3.01294049e-02, 2.98287256e-02,\n",
       "       2.95310562e-02, 2.92363692e-02, 2.89446371e-02, 2.86558326e-02,\n",
       "       2.83699286e-02, 2.80868980e-02, 2.78067139e-02, 2.75293497e-02,\n",
       "       2.72547786e-02, 2.69829741e-02, 2.67139099e-02, 2.64475597e-02,\n",
       "       2.61838974e-02, 2.59228971e-02, 2.56645328e-02, 2.54087789e-02,\n",
       "       2.51556099e-02, 2.49050001e-02, 2.46569243e-02, 2.44113574e-02,\n",
       "       2.41682742e-02, 2.39276499e-02, 2.36894596e-02, 2.34536786e-02,\n",
       "       2.32202825e-02, 2.29892467e-02, 2.27605472e-02, 2.25341596e-02,\n",
       "       2.23100600e-02, 2.20882246e-02, 2.18686295e-02, 2.16512512e-02,\n",
       "       2.14360661e-02, 2.12230509e-02, 2.10121824e-02, 2.08034375e-02,\n",
       "       2.05967932e-02, 2.03922267e-02, 2.01897153e-02, 1.99892365e-02,\n",
       "       1.97907677e-02, 1.95942867e-02, 1.93997713e-02, 1.92071995e-02,\n",
       "       1.90165494e-02, 1.88277991e-02, 1.86409271e-02, 1.84559117e-02,\n",
       "       1.82727317e-02, 1.80913657e-02, 1.79117927e-02, 1.77339916e-02,\n",
       "       1.75579416e-02, 1.73836219e-02, 1.72110120e-02, 1.70400914e-02,\n",
       "       1.68708397e-02, 1.67032367e-02, 1.65372624e-02, 1.63728968e-02,\n",
       "       1.62101201e-02, 1.60489127e-02, 1.58892549e-02, 1.57311273e-02,\n",
       "       1.55745107e-02, 1.54193909e-02, 1.52657798e-02, 1.51136688e-02,\n",
       "       1.49630454e-02, 1.48138971e-02, 1.46662114e-02, 1.45199760e-02,\n",
       "       1.43751786e-02, 1.42318068e-02, 1.40898485e-02, 1.39492914e-02,\n",
       "       1.38101236e-02, 1.36723328e-02, 1.35359071e-02, 1.34008346e-02,\n",
       "       1.32671033e-02, 1.31347014e-02, 1.30036171e-02, 1.28738387e-02,\n",
       "       1.27453544e-02, 1.26181528e-02, 1.24922221e-02, 1.23675509e-02,\n",
       "       1.22441277e-02, 1.21219411e-02, 1.20009797e-02, 1.18812323e-02,\n",
       "       1.17626875e-02, 1.16453342e-02, 1.15291612e-02, 1.14141575e-02,\n",
       "       1.13003120e-02, 1.11876137e-02, 1.10760518e-02, 1.09656152e-02,\n",
       "       1.08562933e-02, 1.07480753e-02, 1.06409504e-02, 1.05349079e-02,\n",
       "       1.04299374e-02, 1.03260282e-02, 1.02231698e-02, 1.01213519e-02,\n",
       "       1.00205639e-02, 9.92079567e-03, 9.82203681e-03, 9.72427713e-03,\n",
       "       9.62750646e-03, 9.53171469e-03, 9.43689174e-03, 9.34302763e-03,\n",
       "       9.25011238e-03, 9.15813610e-03, 9.06708894e-03, 8.97696112e-03,\n",
       "       8.88774289e-03, 8.79942457e-03, 8.71199652e-03, 8.62544918e-03,\n",
       "       8.53977303e-03, 8.45495858e-03, 8.37099643e-03, 8.28787722e-03,\n",
       "       8.20559165e-03, 8.12413045e-03, 8.04348444e-03, 7.96364446e-03,\n",
       "       7.88460144e-03, 7.80634633e-03, 7.72887014e-03, 7.65216396e-03,\n",
       "       7.57621891e-03, 7.50102617e-03, 7.42657697e-03, 7.35286260e-03,\n",
       "       7.27987441e-03, 7.20760378e-03, 7.13604217e-03, 7.06518109e-03,\n",
       "       6.99501209e-03, 6.92552678e-03, 6.85671683e-03, 6.78857396e-03,\n",
       "       6.72108994e-03, 6.65425661e-03, 6.58806584e-03, 6.52250957e-03,\n",
       "       6.45757979e-03, 6.39326910e-03, 6.32958107e-03, 6.26651446e-03,\n",
       "       6.20406408e-03, 6.14222479e-03, 6.08099145e-03, 6.02035895e-03,\n",
       "       5.96032222e-03, 5.90087618e-03, 5.84201579e-03, 5.78373603e-03,\n",
       "       5.72603190e-03, 5.66889843e-03, 5.61233066e-03, 5.55632365e-03,\n",
       "       5.50087251e-03, 5.44597233e-03, 5.39161826e-03, 5.33780544e-03,\n",
       "       5.28452905e-03, 5.23178430e-03, 5.17956640e-03, 5.12787060e-03,\n",
       "       5.07669216e-03, 5.02602637e-03, 4.97586853e-03, 4.92621398e-03,\n",
       "       4.87705807e-03, 4.82839618e-03, 4.78022369e-03, 4.73253604e-03,\n",
       "       4.68532866e-03, 4.63859701e-03, 4.59233658e-03, 4.54654287e-03,\n",
       "       4.50121141e-03, 4.45633776e-03, 4.41191748e-03, 4.36794617e-03,\n",
       "       4.32441944e-03, 4.28133294e-03, 4.23868232e-03, 4.19646326e-03,\n",
       "       4.15467147e-03, 4.11330268e-03, 4.07235264e-03, 4.03181710e-03,\n",
       "       3.99169187e-03, 3.95197276e-03, 3.91265560e-03, 3.87373625e-03,\n",
       "       3.83521060e-03, 3.79707454e-03, 3.75932399e-03, 3.72195491e-03,\n",
       "       3.68496326e-03, 3.64834502e-03, 3.61209622e-03, 3.57621288e-03,\n",
       "       3.54069106e-03, 3.50552683e-03, 3.47071630e-03, 3.43625559e-03,\n",
       "       3.40214084e-03, 3.36836821e-03, 3.33493390e-03, 3.30183411e-03,\n",
       "       3.26906507e-03, 3.23662303e-03, 3.20450427e-03, 3.17270509e-03,\n",
       "       3.14122181e-03, 3.11005076e-03, 3.07918831e-03, 3.04863085e-03,\n",
       "       3.01837477e-03, 2.98841652e-03, 2.95875253e-03, 2.92937929e-03,\n",
       "       2.90029328e-03, 2.87149103e-03, 2.84296906e-03, 2.81472395e-03,\n",
       "       2.78675227e-03, 2.75905063e-03, 2.73161566e-03, 2.70444399e-03,\n",
       "       2.67753231e-03, 2.65087730e-03, 2.62447619e-03, 2.59833087e-03,\n",
       "       2.57244038e-03, 2.54680261e-03, 2.52141546e-03, 2.49627685e-03,\n",
       "       2.47138469e-03, 2.44673692e-03, 2.42233146e-03, 2.39816628e-03,\n",
       "       2.37423931e-03, 2.35054853e-03, 2.32709191e-03, 2.30386742e-03,\n",
       "       2.28087306e-03, 2.25810683e-03, 2.23556672e-03, 2.21325077e-03,\n",
       "       2.19115698e-03, 2.16928340e-03, 2.14762806e-03, 2.12618901e-03,\n",
       "       2.10496432e-03, 2.08395205e-03, 2.06315027e-03, 2.04255708e-03,\n",
       "       2.02217056e-03, 2.00198881e-03, 1.98200996e-03, 1.96223210e-03,\n",
       "       1.94265339e-03, 1.92327194e-03, 1.90408590e-03, 1.88509344e-03,\n",
       "       1.86629271e-03, 1.84768188e-03, 1.82925914e-03, 1.81102266e-03,\n",
       "       1.79297066e-03, 1.77510133e-03, 1.75741289e-03, 1.73990356e-03,\n",
       "       1.72257157e-03, 1.70541517e-03, 1.68843261e-03, 1.67162213e-03,\n",
       "       1.65498202e-03, 1.63851054e-03, 1.62220597e-03, 1.60606662e-03,\n",
       "       1.59009077e-03, 1.57427675e-03, 1.55862287e-03, 1.54312745e-03,\n",
       "       1.52778883e-03, 1.51260536e-03, 1.49757539e-03, 1.48269729e-03,\n",
       "       1.46796941e-03, 1.45339015e-03, 1.43895788e-03, 1.42467101e-03,\n",
       "       1.41052794e-03, 1.39652708e-03, 1.38266687e-03, 1.36894571e-03,\n",
       "       1.35536207e-03, 1.34191438e-03, 1.32860111e-03, 1.31542071e-03,\n",
       "       1.30237167e-03, 1.28945246e-03, 1.27666158e-03, 1.26399753e-03,\n",
       "       1.25145882e-03, 1.23904396e-03, 1.22675149e-03, 1.21457993e-03,\n",
       "       1.20252783e-03, 1.19059374e-03, 1.17877623e-03, 1.16707386e-03,\n",
       "       1.15548521e-03, 1.14400887e-03, 1.13264343e-03, 1.12138751e-03,\n",
       "       1.11023970e-03, 1.09919864e-03, 1.08826295e-03, 1.07743127e-03,\n",
       "       1.06670227e-03, 1.05607623e-03, 1.04555339e-03, 1.03513293e-03,\n",
       "       1.02481400e-03, 1.01459578e-03, 1.00447744e-03, 9.94458162e-04,\n",
       "       9.84537119e-04, 9.74713496e-04, 9.64986480e-04, 9.55355261e-04,\n",
       "       9.45819030e-04, 9.36376984e-04, 9.27028321e-04, 9.17772244e-04,\n",
       "       9.08607959e-04, 8.99534673e-04, 8.90551598e-04, 8.81657950e-04,\n",
       "       8.72852946e-04, 8.64135807e-04, 8.55505759e-04, 8.46962028e-04,\n",
       "       8.38503845e-04, 8.30130445e-04, 8.21841064e-04, 8.13634943e-04,\n",
       "       8.05511325e-04, 7.97469458e-04, 7.89508590e-04, 7.81627976e-04,\n",
       "       7.73826871e-04, 7.66104534e-04, 7.58460229e-04, 7.50893221e-04,\n",
       "       7.43402779e-04, 7.35988176e-04, 7.28648686e-04, 7.21383588e-04,\n",
       "       7.14192164e-04, 7.07073699e-04, 7.00027481e-04, 6.93052800e-04,\n",
       "       6.86148953e-04, 6.79315235e-04, 6.72550949e-04, 6.65855397e-04,\n",
       "       6.59227888e-04, 6.52667731e-04, 6.46174240e-04, 6.39746732e-04,\n",
       "       6.33384526e-04, 6.27086946e-04, 6.20853319e-04, 6.14682972e-04,\n",
       "       6.08575240e-04, 6.02529457e-04, 5.96544964e-04, 5.90621101e-04,\n",
       "       5.84757215e-04, 5.78952654e-04, 5.73206769e-04, 5.67518916e-04,\n",
       "       5.61888453e-04, 5.56314740e-04, 5.50797143e-04, 5.45335029e-04,\n",
       "       5.39927769e-04, 5.34574736e-04, 5.29275309e-04, 5.24028867e-04,\n",
       "       5.18834793e-04, 5.13692476e-04, 5.08601304e-04, 5.03560671e-04,\n",
       "       4.98569972e-04, 4.93628608e-04, 4.88735981e-04, 4.83891497e-04,\n",
       "       4.79094565e-04, 4.74344596e-04, 4.69641007e-04, 4.64983216e-04,\n",
       "       4.60370645e-04, 4.55802718e-04, 4.51278864e-04, 4.46798514e-04,\n",
       "       4.42361103e-04, 4.37966067e-04, 4.33612849e-04, 4.29300891e-04,\n",
       "       4.25029641e-04, 4.20798550e-04, 4.16607299e-04, 4.12456348e-04,\n",
       "       4.08345471e-04, 4.04274357e-04, 4.00242694e-04, 3.96250172e-04,\n",
       "       3.92296484e-04, 3.88381320e-04, 3.84504373e-04, 3.80665338e-04,\n",
       "       3.76863910e-04, 3.73099784e-04, 3.69372657e-04, 3.65682228e-04,\n",
       "       3.62028194e-04, 3.58410257e-04, 3.54828117e-04, 3.51281475e-04,\n",
       "       3.47770035e-04, 3.44293500e-04, 3.40851575e-04, 3.37443966e-04,\n",
       "       3.34070380e-04, 3.30730524e-04, 3.27424106e-04, 3.24150838e-04,\n",
       "       3.20910429e-04, 3.17702591e-04, 3.14527037e-04, 3.11383480e-04,\n",
       "       3.08271634e-04, 3.05191217e-04, 3.02141943e-04, 2.99123531e-04,\n",
       "       2.96135699e-04, 2.93178167e-04, 2.90250655e-04, 2.87352885e-04,\n",
       "       2.84484579e-04, 2.81645460e-04, 2.78835253e-04, 2.76053684e-04,\n",
       "       2.73300479e-04, 2.70575364e-04, 2.67878070e-04, 2.65208324e-04,\n",
       "       2.62565857e-04, 2.59950401e-04, 2.57361688e-04, 2.54799451e-04,\n",
       "       2.52263425e-04, 2.49753344e-04, 2.47268944e-04, 2.44809964e-04,\n",
       "       2.42376141e-04, 2.39967215e-04, 2.37582925e-04, 2.35223013e-04,\n",
       "       2.32887220e-04, 2.30575291e-04, 2.28286969e-04, 2.26021998e-04,\n",
       "       2.23780126e-04, 2.21561099e-04, 2.19364665e-04, 2.17190574e-04,\n",
       "       2.15038574e-04, 2.12908418e-04, 2.10799856e-04, 2.08712643e-04,\n",
       "       2.06646532e-04, 2.04601278e-04, 2.02576636e-04, 2.00572364e-04,\n",
       "       1.98588219e-04, 1.96623960e-04, 1.94679348e-04, 1.92754142e-04,\n",
       "       1.90848105e-04, 1.88961000e-04, 1.87092589e-04, 1.85242638e-04,\n",
       "       1.83410913e-04, 1.81597180e-04, 1.79801207e-04, 1.78022763e-04,\n",
       "       1.76261617e-04, 1.74517539e-04, 1.72790302e-04, 1.71079678e-04,\n",
       "       1.69385441e-04, 1.67707365e-04, 1.66045225e-04, 1.64398799e-04,\n",
       "       1.62767863e-04, 1.61152196e-04, 1.59551578e-04, 1.57965789e-04,\n",
       "       1.56394611e-04, 1.54837825e-04, 1.53295411e-04, 1.51767611e-04,\n",
       "       1.50254334e-04, 1.48755477e-04, 1.47270938e-04, 1.45800613e-04,\n",
       "       1.44344401e-04, 1.42902200e-04, 1.41473906e-04, 1.40059419e-04,\n",
       "       1.38658637e-04, 1.37271457e-04, 1.35897780e-04, 1.34537504e-04,\n",
       "       1.33190527e-04, 1.31856749e-04, 1.30536070e-04, 1.29228388e-04,\n",
       "       1.27933604e-04, 1.26651618e-04, 1.25382329e-04, 1.24125639e-04,\n",
       "       1.22881446e-04, 1.21649653e-04, 1.20430159e-04, 1.19222866e-04,\n",
       "       1.18027675e-04, 1.16844487e-04, 1.15673204e-04, 1.14513727e-04,\n",
       "       1.13365959e-04, 1.12229800e-04, 1.11105154e-04, 1.09991923e-04,\n",
       "       1.08890009e-04, 1.07799315e-04, 1.06719744e-04, 1.05651199e-04,\n",
       "       1.04593583e-04, 1.03546800e-04, 1.02510754e-04, 1.01485347e-04,\n",
       "       1.00470485e-04, 9.94660705e-05, 9.84720087e-05, 9.74882039e-05,\n",
       "       9.65145607e-05, 9.55509840e-05, 9.45973787e-05, 9.36536502e-05,\n",
       "       9.27197037e-05, 9.17954448e-05, 9.08807792e-05, 8.99756128e-05,\n",
       "       8.90798516e-05, 8.81934020e-05, 8.73161703e-05, 8.64480631e-05,\n",
       "       8.55889872e-05, 8.47388495e-05, 8.38975572e-05, 8.30650176e-05,\n",
       "       8.22411381e-05, 8.14258264e-05, 8.06189904e-05, 7.98205379e-05,\n",
       "       7.90303773e-05, 7.82484168e-05, 7.74745651e-05, 7.67087307e-05,\n",
       "       7.59508227e-05, 7.52007500e-05, 7.44584218e-05, 7.37237477e-05,\n",
       "       7.29966372e-05, 7.22770000e-05, 7.15647461e-05, 7.08597856e-05,\n",
       "       7.01620288e-05, 6.94713861e-05, 6.87877683e-05, 6.81110861e-05,\n",
       "       6.74412505e-05, 6.67781727e-05, 6.61217641e-05, 6.54719361e-05,\n",
       "       6.48286005e-05, 6.41916691e-05, 6.35610540e-05, 6.29366675e-05,\n",
       "       6.23184218e-05, 6.17062297e-05, 6.11000038e-05, 6.04996571e-05,\n",
       "       5.99051027e-05, 5.93162539e-05, 5.87330242e-05, 5.81553271e-05,\n",
       "       5.75830765e-05, 5.70161863e-05, 5.64545708e-05, 5.58981443e-05,\n",
       "       5.53468213e-05, 5.48005164e-05, 5.42591446e-05, 5.37226209e-05,\n",
       "       5.31908605e-05, 5.26637788e-05, 5.21412914e-05, 5.16233140e-05,\n",
       "       5.11097625e-05, 5.06007428e-05, 5.00967554e-05, 4.95977878e-05,\n",
       "       4.91037900e-05, 4.86147125e-05, 4.81305062e-05, 4.76511228e-05,\n",
       "       4.71765140e-05, 4.67066324e-05, 4.62414308e-05, 4.57808626e-05])"
      ]
     },
     "execution_count": 60,
     "metadata": {},
     "output_type": "execute_result"
    }
   ],
   "source": [
    "#It returns the results as an array inside an array so you'd need to index for the array that you'd like\n",
    "sol_1.y[0]"
   ]
  },
  {
   "cell_type": "markdown",
   "metadata": {},
   "source": [
    "If you want the time values for this solution, that's also given as an array"
   ]
  },
  {
   "cell_type": "code",
   "execution_count": 61,
   "metadata": {},
   "outputs": [
    {
     "data": {
      "text/plain": [
       "array([ 0.        ,  0.02002002,  0.04004004,  0.06006006,  0.08008008,\n",
       "        0.1001001 ,  0.12012012,  0.14014014,  0.16016016,  0.18018018,\n",
       "        0.2002002 ,  0.22022022,  0.24024024,  0.26026026,  0.28028028,\n",
       "        0.3003003 ,  0.32032032,  0.34034034,  0.36036036,  0.38038038,\n",
       "        0.4004004 ,  0.42042042,  0.44044044,  0.46046046,  0.48048048,\n",
       "        0.5005005 ,  0.52052052,  0.54054054,  0.56056056,  0.58058058,\n",
       "        0.6006006 ,  0.62062062,  0.64064064,  0.66066066,  0.68068068,\n",
       "        0.7007007 ,  0.72072072,  0.74074074,  0.76076076,  0.78078078,\n",
       "        0.8008008 ,  0.82082082,  0.84084084,  0.86086086,  0.88088088,\n",
       "        0.9009009 ,  0.92092092,  0.94094094,  0.96096096,  0.98098098,\n",
       "        1.001001  ,  1.02102102,  1.04104104,  1.06106106,  1.08108108,\n",
       "        1.1011011 ,  1.12112112,  1.14114114,  1.16116116,  1.18118118,\n",
       "        1.2012012 ,  1.22122122,  1.24124124,  1.26126126,  1.28128128,\n",
       "        1.3013013 ,  1.32132132,  1.34134134,  1.36136136,  1.38138138,\n",
       "        1.4014014 ,  1.42142142,  1.44144144,  1.46146146,  1.48148148,\n",
       "        1.5015015 ,  1.52152152,  1.54154154,  1.56156156,  1.58158158,\n",
       "        1.6016016 ,  1.62162162,  1.64164164,  1.66166166,  1.68168168,\n",
       "        1.7017017 ,  1.72172172,  1.74174174,  1.76176176,  1.78178178,\n",
       "        1.8018018 ,  1.82182182,  1.84184184,  1.86186186,  1.88188188,\n",
       "        1.9019019 ,  1.92192192,  1.94194194,  1.96196196,  1.98198198,\n",
       "        2.002002  ,  2.02202202,  2.04204204,  2.06206206,  2.08208208,\n",
       "        2.1021021 ,  2.12212212,  2.14214214,  2.16216216,  2.18218218,\n",
       "        2.2022022 ,  2.22222222,  2.24224224,  2.26226226,  2.28228228,\n",
       "        2.3023023 ,  2.32232232,  2.34234234,  2.36236236,  2.38238238,\n",
       "        2.4024024 ,  2.42242242,  2.44244244,  2.46246246,  2.48248248,\n",
       "        2.5025025 ,  2.52252252,  2.54254254,  2.56256256,  2.58258258,\n",
       "        2.6026026 ,  2.62262262,  2.64264264,  2.66266266,  2.68268268,\n",
       "        2.7027027 ,  2.72272272,  2.74274274,  2.76276276,  2.78278278,\n",
       "        2.8028028 ,  2.82282282,  2.84284284,  2.86286286,  2.88288288,\n",
       "        2.9029029 ,  2.92292292,  2.94294294,  2.96296296,  2.98298298,\n",
       "        3.003003  ,  3.02302302,  3.04304304,  3.06306306,  3.08308308,\n",
       "        3.1031031 ,  3.12312312,  3.14314314,  3.16316316,  3.18318318,\n",
       "        3.2032032 ,  3.22322322,  3.24324324,  3.26326326,  3.28328328,\n",
       "        3.3033033 ,  3.32332332,  3.34334334,  3.36336336,  3.38338338,\n",
       "        3.4034034 ,  3.42342342,  3.44344344,  3.46346346,  3.48348348,\n",
       "        3.5035035 ,  3.52352352,  3.54354354,  3.56356356,  3.58358358,\n",
       "        3.6036036 ,  3.62362362,  3.64364364,  3.66366366,  3.68368368,\n",
       "        3.7037037 ,  3.72372372,  3.74374374,  3.76376376,  3.78378378,\n",
       "        3.8038038 ,  3.82382382,  3.84384384,  3.86386386,  3.88388388,\n",
       "        3.9039039 ,  3.92392392,  3.94394394,  3.96396396,  3.98398398,\n",
       "        4.004004  ,  4.02402402,  4.04404404,  4.06406406,  4.08408408,\n",
       "        4.1041041 ,  4.12412412,  4.14414414,  4.16416416,  4.18418418,\n",
       "        4.2042042 ,  4.22422422,  4.24424424,  4.26426426,  4.28428428,\n",
       "        4.3043043 ,  4.32432432,  4.34434434,  4.36436436,  4.38438438,\n",
       "        4.4044044 ,  4.42442442,  4.44444444,  4.46446446,  4.48448448,\n",
       "        4.5045045 ,  4.52452452,  4.54454454,  4.56456456,  4.58458458,\n",
       "        4.6046046 ,  4.62462462,  4.64464464,  4.66466466,  4.68468468,\n",
       "        4.7047047 ,  4.72472472,  4.74474474,  4.76476476,  4.78478478,\n",
       "        4.8048048 ,  4.82482482,  4.84484484,  4.86486486,  4.88488488,\n",
       "        4.9049049 ,  4.92492492,  4.94494494,  4.96496496,  4.98498498,\n",
       "        5.00500501,  5.02502503,  5.04504505,  5.06506507,  5.08508509,\n",
       "        5.10510511,  5.12512513,  5.14514515,  5.16516517,  5.18518519,\n",
       "        5.20520521,  5.22522523,  5.24524525,  5.26526527,  5.28528529,\n",
       "        5.30530531,  5.32532533,  5.34534535,  5.36536537,  5.38538539,\n",
       "        5.40540541,  5.42542543,  5.44544545,  5.46546547,  5.48548549,\n",
       "        5.50550551,  5.52552553,  5.54554555,  5.56556557,  5.58558559,\n",
       "        5.60560561,  5.62562563,  5.64564565,  5.66566567,  5.68568569,\n",
       "        5.70570571,  5.72572573,  5.74574575,  5.76576577,  5.78578579,\n",
       "        5.80580581,  5.82582583,  5.84584585,  5.86586587,  5.88588589,\n",
       "        5.90590591,  5.92592593,  5.94594595,  5.96596597,  5.98598599,\n",
       "        6.00600601,  6.02602603,  6.04604605,  6.06606607,  6.08608609,\n",
       "        6.10610611,  6.12612613,  6.14614615,  6.16616617,  6.18618619,\n",
       "        6.20620621,  6.22622623,  6.24624625,  6.26626627,  6.28628629,\n",
       "        6.30630631,  6.32632633,  6.34634635,  6.36636637,  6.38638639,\n",
       "        6.40640641,  6.42642643,  6.44644645,  6.46646647,  6.48648649,\n",
       "        6.50650651,  6.52652653,  6.54654655,  6.56656657,  6.58658659,\n",
       "        6.60660661,  6.62662663,  6.64664665,  6.66666667,  6.68668669,\n",
       "        6.70670671,  6.72672673,  6.74674675,  6.76676677,  6.78678679,\n",
       "        6.80680681,  6.82682683,  6.84684685,  6.86686687,  6.88688689,\n",
       "        6.90690691,  6.92692693,  6.94694695,  6.96696697,  6.98698699,\n",
       "        7.00700701,  7.02702703,  7.04704705,  7.06706707,  7.08708709,\n",
       "        7.10710711,  7.12712713,  7.14714715,  7.16716717,  7.18718719,\n",
       "        7.20720721,  7.22722723,  7.24724725,  7.26726727,  7.28728729,\n",
       "        7.30730731,  7.32732733,  7.34734735,  7.36736737,  7.38738739,\n",
       "        7.40740741,  7.42742743,  7.44744745,  7.46746747,  7.48748749,\n",
       "        7.50750751,  7.52752753,  7.54754755,  7.56756757,  7.58758759,\n",
       "        7.60760761,  7.62762763,  7.64764765,  7.66766767,  7.68768769,\n",
       "        7.70770771,  7.72772773,  7.74774775,  7.76776777,  7.78778779,\n",
       "        7.80780781,  7.82782783,  7.84784785,  7.86786787,  7.88788789,\n",
       "        7.90790791,  7.92792793,  7.94794795,  7.96796797,  7.98798799,\n",
       "        8.00800801,  8.02802803,  8.04804805,  8.06806807,  8.08808809,\n",
       "        8.10810811,  8.12812813,  8.14814815,  8.16816817,  8.18818819,\n",
       "        8.20820821,  8.22822823,  8.24824825,  8.26826827,  8.28828829,\n",
       "        8.30830831,  8.32832833,  8.34834835,  8.36836837,  8.38838839,\n",
       "        8.40840841,  8.42842843,  8.44844845,  8.46846847,  8.48848849,\n",
       "        8.50850851,  8.52852853,  8.54854855,  8.56856857,  8.58858859,\n",
       "        8.60860861,  8.62862863,  8.64864865,  8.66866867,  8.68868869,\n",
       "        8.70870871,  8.72872873,  8.74874875,  8.76876877,  8.78878879,\n",
       "        8.80880881,  8.82882883,  8.84884885,  8.86886887,  8.88888889,\n",
       "        8.90890891,  8.92892893,  8.94894895,  8.96896897,  8.98898899,\n",
       "        9.00900901,  9.02902903,  9.04904905,  9.06906907,  9.08908909,\n",
       "        9.10910911,  9.12912913,  9.14914915,  9.16916917,  9.18918919,\n",
       "        9.20920921,  9.22922923,  9.24924925,  9.26926927,  9.28928929,\n",
       "        9.30930931,  9.32932933,  9.34934935,  9.36936937,  9.38938939,\n",
       "        9.40940941,  9.42942943,  9.44944945,  9.46946947,  9.48948949,\n",
       "        9.50950951,  9.52952953,  9.54954955,  9.56956957,  9.58958959,\n",
       "        9.60960961,  9.62962963,  9.64964965,  9.66966967,  9.68968969,\n",
       "        9.70970971,  9.72972973,  9.74974975,  9.76976977,  9.78978979,\n",
       "        9.80980981,  9.82982983,  9.84984985,  9.86986987,  9.88988989,\n",
       "        9.90990991,  9.92992993,  9.94994995,  9.96996997,  9.98998999,\n",
       "       10.01001001, 10.03003003, 10.05005005, 10.07007007, 10.09009009,\n",
       "       10.11011011, 10.13013013, 10.15015015, 10.17017017, 10.19019019,\n",
       "       10.21021021, 10.23023023, 10.25025025, 10.27027027, 10.29029029,\n",
       "       10.31031031, 10.33033033, 10.35035035, 10.37037037, 10.39039039,\n",
       "       10.41041041, 10.43043043, 10.45045045, 10.47047047, 10.49049049,\n",
       "       10.51051051, 10.53053053, 10.55055055, 10.57057057, 10.59059059,\n",
       "       10.61061061, 10.63063063, 10.65065065, 10.67067067, 10.69069069,\n",
       "       10.71071071, 10.73073073, 10.75075075, 10.77077077, 10.79079079,\n",
       "       10.81081081, 10.83083083, 10.85085085, 10.87087087, 10.89089089,\n",
       "       10.91091091, 10.93093093, 10.95095095, 10.97097097, 10.99099099,\n",
       "       11.01101101, 11.03103103, 11.05105105, 11.07107107, 11.09109109,\n",
       "       11.11111111, 11.13113113, 11.15115115, 11.17117117, 11.19119119,\n",
       "       11.21121121, 11.23123123, 11.25125125, 11.27127127, 11.29129129,\n",
       "       11.31131131, 11.33133133, 11.35135135, 11.37137137, 11.39139139,\n",
       "       11.41141141, 11.43143143, 11.45145145, 11.47147147, 11.49149149,\n",
       "       11.51151151, 11.53153153, 11.55155155, 11.57157157, 11.59159159,\n",
       "       11.61161161, 11.63163163, 11.65165165, 11.67167167, 11.69169169,\n",
       "       11.71171171, 11.73173173, 11.75175175, 11.77177177, 11.79179179,\n",
       "       11.81181181, 11.83183183, 11.85185185, 11.87187187, 11.89189189,\n",
       "       11.91191191, 11.93193193, 11.95195195, 11.97197197, 11.99199199,\n",
       "       12.01201201, 12.03203203, 12.05205205, 12.07207207, 12.09209209,\n",
       "       12.11211211, 12.13213213, 12.15215215, 12.17217217, 12.19219219,\n",
       "       12.21221221, 12.23223223, 12.25225225, 12.27227227, 12.29229229,\n",
       "       12.31231231, 12.33233233, 12.35235235, 12.37237237, 12.39239239,\n",
       "       12.41241241, 12.43243243, 12.45245245, 12.47247247, 12.49249249,\n",
       "       12.51251251, 12.53253253, 12.55255255, 12.57257257, 12.59259259,\n",
       "       12.61261261, 12.63263263, 12.65265265, 12.67267267, 12.69269269,\n",
       "       12.71271271, 12.73273273, 12.75275275, 12.77277277, 12.79279279,\n",
       "       12.81281281, 12.83283283, 12.85285285, 12.87287287, 12.89289289,\n",
       "       12.91291291, 12.93293293, 12.95295295, 12.97297297, 12.99299299,\n",
       "       13.01301301, 13.03303303, 13.05305305, 13.07307307, 13.09309309,\n",
       "       13.11311311, 13.13313313, 13.15315315, 13.17317317, 13.19319319,\n",
       "       13.21321321, 13.23323323, 13.25325325, 13.27327327, 13.29329329,\n",
       "       13.31331331, 13.33333333, 13.35335335, 13.37337337, 13.39339339,\n",
       "       13.41341341, 13.43343343, 13.45345345, 13.47347347, 13.49349349,\n",
       "       13.51351351, 13.53353353, 13.55355355, 13.57357357, 13.59359359,\n",
       "       13.61361361, 13.63363363, 13.65365365, 13.67367367, 13.69369369,\n",
       "       13.71371371, 13.73373373, 13.75375375, 13.77377377, 13.79379379,\n",
       "       13.81381381, 13.83383383, 13.85385385, 13.87387387, 13.89389389,\n",
       "       13.91391391, 13.93393393, 13.95395395, 13.97397397, 13.99399399,\n",
       "       14.01401401, 14.03403403, 14.05405405, 14.07407407, 14.09409409,\n",
       "       14.11411411, 14.13413413, 14.15415415, 14.17417417, 14.19419419,\n",
       "       14.21421421, 14.23423423, 14.25425425, 14.27427427, 14.29429429,\n",
       "       14.31431431, 14.33433433, 14.35435435, 14.37437437, 14.39439439,\n",
       "       14.41441441, 14.43443443, 14.45445445, 14.47447447, 14.49449449,\n",
       "       14.51451451, 14.53453453, 14.55455455, 14.57457457, 14.59459459,\n",
       "       14.61461461, 14.63463463, 14.65465465, 14.67467467, 14.69469469,\n",
       "       14.71471471, 14.73473473, 14.75475475, 14.77477477, 14.79479479,\n",
       "       14.81481481, 14.83483483, 14.85485485, 14.87487487, 14.89489489,\n",
       "       14.91491491, 14.93493493, 14.95495495, 14.97497497, 14.99499499,\n",
       "       15.01501502, 15.03503504, 15.05505506, 15.07507508, 15.0950951 ,\n",
       "       15.11511512, 15.13513514, 15.15515516, 15.17517518, 15.1951952 ,\n",
       "       15.21521522, 15.23523524, 15.25525526, 15.27527528, 15.2952953 ,\n",
       "       15.31531532, 15.33533534, 15.35535536, 15.37537538, 15.3953954 ,\n",
       "       15.41541542, 15.43543544, 15.45545546, 15.47547548, 15.4954955 ,\n",
       "       15.51551552, 15.53553554, 15.55555556, 15.57557558, 15.5955956 ,\n",
       "       15.61561562, 15.63563564, 15.65565566, 15.67567568, 15.6956957 ,\n",
       "       15.71571572, 15.73573574, 15.75575576, 15.77577578, 15.7957958 ,\n",
       "       15.81581582, 15.83583584, 15.85585586, 15.87587588, 15.8958959 ,\n",
       "       15.91591592, 15.93593594, 15.95595596, 15.97597598, 15.995996  ,\n",
       "       16.01601602, 16.03603604, 16.05605606, 16.07607608, 16.0960961 ,\n",
       "       16.11611612, 16.13613614, 16.15615616, 16.17617618, 16.1961962 ,\n",
       "       16.21621622, 16.23623624, 16.25625626, 16.27627628, 16.2962963 ,\n",
       "       16.31631632, 16.33633634, 16.35635636, 16.37637638, 16.3963964 ,\n",
       "       16.41641642, 16.43643644, 16.45645646, 16.47647648, 16.4964965 ,\n",
       "       16.51651652, 16.53653654, 16.55655656, 16.57657658, 16.5965966 ,\n",
       "       16.61661662, 16.63663664, 16.65665666, 16.67667668, 16.6966967 ,\n",
       "       16.71671672, 16.73673674, 16.75675676, 16.77677678, 16.7967968 ,\n",
       "       16.81681682, 16.83683684, 16.85685686, 16.87687688, 16.8968969 ,\n",
       "       16.91691692, 16.93693694, 16.95695696, 16.97697698, 16.996997  ,\n",
       "       17.01701702, 17.03703704, 17.05705706, 17.07707708, 17.0970971 ,\n",
       "       17.11711712, 17.13713714, 17.15715716, 17.17717718, 17.1971972 ,\n",
       "       17.21721722, 17.23723724, 17.25725726, 17.27727728, 17.2972973 ,\n",
       "       17.31731732, 17.33733734, 17.35735736, 17.37737738, 17.3973974 ,\n",
       "       17.41741742, 17.43743744, 17.45745746, 17.47747748, 17.4974975 ,\n",
       "       17.51751752, 17.53753754, 17.55755756, 17.57757758, 17.5975976 ,\n",
       "       17.61761762, 17.63763764, 17.65765766, 17.67767768, 17.6976977 ,\n",
       "       17.71771772, 17.73773774, 17.75775776, 17.77777778, 17.7977978 ,\n",
       "       17.81781782, 17.83783784, 17.85785786, 17.87787788, 17.8978979 ,\n",
       "       17.91791792, 17.93793794, 17.95795796, 17.97797798, 17.997998  ,\n",
       "       18.01801802, 18.03803804, 18.05805806, 18.07807808, 18.0980981 ,\n",
       "       18.11811812, 18.13813814, 18.15815816, 18.17817818, 18.1981982 ,\n",
       "       18.21821822, 18.23823824, 18.25825826, 18.27827828, 18.2982983 ,\n",
       "       18.31831832, 18.33833834, 18.35835836, 18.37837838, 18.3983984 ,\n",
       "       18.41841842, 18.43843844, 18.45845846, 18.47847848, 18.4984985 ,\n",
       "       18.51851852, 18.53853854, 18.55855856, 18.57857858, 18.5985986 ,\n",
       "       18.61861862, 18.63863864, 18.65865866, 18.67867868, 18.6986987 ,\n",
       "       18.71871872, 18.73873874, 18.75875876, 18.77877878, 18.7987988 ,\n",
       "       18.81881882, 18.83883884, 18.85885886, 18.87887888, 18.8988989 ,\n",
       "       18.91891892, 18.93893894, 18.95895896, 18.97897898, 18.998999  ,\n",
       "       19.01901902, 19.03903904, 19.05905906, 19.07907908, 19.0990991 ,\n",
       "       19.11911912, 19.13913914, 19.15915916, 19.17917918, 19.1991992 ,\n",
       "       19.21921922, 19.23923924, 19.25925926, 19.27927928, 19.2992993 ,\n",
       "       19.31931932, 19.33933934, 19.35935936, 19.37937938, 19.3993994 ,\n",
       "       19.41941942, 19.43943944, 19.45945946, 19.47947948, 19.4994995 ,\n",
       "       19.51951952, 19.53953954, 19.55955956, 19.57957958, 19.5995996 ,\n",
       "       19.61961962, 19.63963964, 19.65965966, 19.67967968, 19.6996997 ,\n",
       "       19.71971972, 19.73973974, 19.75975976, 19.77977978, 19.7997998 ,\n",
       "       19.81981982, 19.83983984, 19.85985986, 19.87987988, 19.8998999 ,\n",
       "       19.91991992, 19.93993994, 19.95995996, 19.97997998, 20.        ])"
      ]
     },
     "execution_count": 61,
     "metadata": {},
     "output_type": "execute_result"
    }
   ],
   "source": [
    "sol_1.t"
   ]
  },
  {
   "cell_type": "markdown",
   "metadata": {},
   "source": [
    "Let's plot the graph of the results "
   ]
  },
  {
   "cell_type": "code",
   "execution_count": 63,
   "metadata": {},
   "outputs": [],
   "source": [
    "import matplotlib.pyplot as plt"
   ]
  },
  {
   "cell_type": "code",
   "execution_count": 64,
   "metadata": {},
   "outputs": [
    {
     "data": {
      "text/plain": [
       "[<matplotlib.lines.Line2D at 0x1db607bd108>]"
      ]
     },
     "execution_count": 64,
     "metadata": {},
     "output_type": "execute_result"
    },
    {
     "data": {
      "image/png": "[encoded data removed]",
      "text/plain": [
       "<Figure size 432x288 with 1 Axes>"
      ]
     },
     "metadata": {
      "needs_background": "light"
     },
     "output_type": "display_data"
    }
   ],
   "source": [
    "plt.plot(sol_1.t, sol_1.y[0])"
   ]
  },
  {
   "cell_type": "markdown",
   "metadata": {},
   "source": [
    "Maria is worried that the population is increasing too quickly and that would mean that the world's chocolate supply would be severely strained. She finds that the rate of population growth is given by the following equation:\n",
    "\n",
    "$$  \\frac{dP}{dt} = P_{o}e^{rt}  $$\n",
    "\n",
    "where:<br>\n",
    "<br>\n",
    "Po = the starting population <br>\n",
    "<br>\n",
    "r = % rate of growth <br>\n",
    "<br>\n",
    "t = the time (years) <br>\n",
    "<br>\n",
    "e = Euler's number"
   ]
  },
  {
   "cell_type": "markdown",
   "metadata": {},
   "source": [
    "Solve this differential equation using $\\texttt{solve_ivp}$ for an initial population of 7 billion people for 5 years with a % rate of growth of 1.1%"
   ]
  },
  {
   "cell_type": "markdown",
   "metadata": {},
   "source": [
    "The main advantage that $\\texttt{solve_ivp}$ has over $\\texttt{odeint}$ is the $\\texttt{events}$ function. Each event occurs at the zeros of a continuous function of time and state. Let's look at an example. <br>\n",
    "<br>\n",
    "Reuben tells Maria that the world's chocolate supply would only be in danger if the world's population reached 8 billion people. How many years would it take to reach this 'event'? That's where the events function comes in to save the day (we'll use the same conditions as Example 1)."
   ]
  },
  {
   "cell_type": "code",
   "execution_count": 65,
   "metadata": {},
   "outputs": [],
   "source": [
    "#Let's define those constants\n",
    "Po = 7e9\n",
    "r = 0.011\n",
    "t = 20          #Pick an arbitrary number for time because we don't know what the solution will be\n",
    "end_p = 8e9     #This is the population when the chocolate supply would be in danger"
   ]
  },
  {
   "cell_type": "code",
   "execution_count": 66,
   "metadata": {},
   "outputs": [],
   "source": [
    "#We define the function just like before\n",
    "\n",
    "def ode_2(t, P):\n",
    "    \n",
    "    dpdt = Po*np.exp(r*t)\n",
    "    \n",
    "    return dpdt"
   ]
  },
  {
   "cell_type": "code",
   "execution_count": 67,
   "metadata": {},
   "outputs": [],
   "source": [
    "# Now we define an event, it takes the same inputs as the main function\n",
    "\n",
    "def event_1(t, P):\n",
    "    \n",
    "    return end_p - P[0]     #This will return a zero when the population being solved is equal to the target population"
   ]
  },
  {
   "cell_type": "code",
   "execution_count": 68,
   "metadata": {},
   "outputs": [],
   "source": [
    "t_span1 = np.linspace(0, t, 100)"
   ]
  },
  {
   "cell_type": "code",
   "execution_count": 69,
   "metadata": {},
   "outputs": [],
   "source": [
    "sol_2 = solve_ivp(ode_2, [0, t], [Po], t_eval = t_span1, events = [event_1])"
   ]
  },
  {
   "cell_type": "markdown",
   "metadata": {},
   "source": [
    "Now, we can find out when this 'event' will occur."
   ]
  },
  {
   "cell_type": "code",
   "execution_count": 71,
   "metadata": {},
   "outputs": [
    {
     "data": {
      "text/plain": [
       "[array([0.14274502])]"
      ]
     },
     "execution_count": 71,
     "metadata": {},
     "output_type": "execute_result"
    }
   ],
   "source": [
    "sol_2.t_events"
   ]
  },
  {
   "cell_type": "markdown",
   "metadata": {},
   "source": [
    "Solve the following differential equations and determine at which points in time the graphs intersect each other in the first ten time units:\n",
    "\n",
    "$$ \\frac{dx}{dt} = y + sin(t) $$ x(0) = 0<br>\n",
    "$$ \\frac{dy}{dt} = 2cos(t) $$ y(0) = 0<br>"
   ]
  },
  {
   "cell_type": "markdown",
   "metadata": {},
   "source": [
    "So now we know that it will happen 0.1427 years from now. However, this is not the only advantage that $\\texttt{solve_ivp}$ has over $\\texttt{odeint}$. In $\\texttt{solve_ivp}$, you do not have to go through all of the effort to index this value that you go through in $\\texttt{odeint}$. Let's find out how."
   ]
  },
  {
   "cell_type": "markdown",
   "metadata": {},
   "source": [
    "Maria doesn't believe Reuben. She wants to know how many people will actually be around in 0.1427 years for herself. <br>\n",
    "<br>\n",
    "We can use $\\texttt{solve_ivp}$ for this as well. We do this using the $\\texttt{dense_output}$ function."
   ]
  },
  {
   "cell_type": "code",
   "execution_count": 72,
   "metadata": {},
   "outputs": [],
   "source": [
    "sol_3 = solve_ivp(ode_2, [0, t], [Po], t_eval = t_span1, events = [event_1], dense_output = True)"
   ]
  },
  {
   "cell_type": "code",
   "execution_count": 73,
   "metadata": {},
   "outputs": [
    {
     "data": {
      "text/plain": [
       "array([[8.e+09]])"
      ]
     },
     "execution_count": 73,
     "metadata": {},
     "output_type": "execute_result"
    }
   ],
   "source": [
    "sol_3.sol(sol_3.t_events[0])"
   ]
  },
  {
   "cell_type": "markdown",
   "metadata": {},
   "source": [
    "This means that you can easily index for an event in $\\texttt{solve_ivp}$. It's not as easy in $\\texttt{odeint}$."
   ]
  },
  {
   "cell_type": "markdown",
   "metadata": {},
   "source": [
    "Now using the same equations used in Example 2, determine the values of x and y for each point in time that the graphs intersect in the first 10 time units."
   ]
  },
  {
   "cell_type": "code",
   "execution_count": null,
   "metadata": {},
   "outputs": [],
   "source": []
  },
  {
   "cell_type": "markdown",
   "metadata": {},
   "source": [
    "Solving differential equations will be used widely in the rest of CBI310 so spend some time to understand how it works."
   ]
  }
 ],
 "metadata": {
  "kernelspec": {
   "display_name": "Python 3",
   "language": "python",
   "name": "python3"
  },
  "language_info": {
   "codemirror_mode": {
    "name": "ipython",
    "version": 3
   },
   "file_extension": ".py",
   "mimetype": "text/x-python",
   "name": "python",
   "nbconvert_exporter": "python",
   "pygments_lexer": "ipython3",
   "version": "3.7.6"
  }
 },
 "nbformat": 4,
 "nbformat_minor": 4
}
