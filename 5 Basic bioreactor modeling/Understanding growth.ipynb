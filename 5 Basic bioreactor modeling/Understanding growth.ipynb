{
 "cells": [
  {
   "cell_type": "markdown",
   "metadata": {},
   "source": [
    "### What exactly is $\\mu$ ?\n",
    "\n",
    "The specific growth rate ($\\mu$) is core to the whole of CBI. We have been using it for a while, but do we fully understand it? We already know the units:\n",
    "\n",
    "$$\\mu \\Rightarrow \\frac{\\text{cmol X}}{\\text{cmol X} \\cdot \\text{h}} \\Rightarrow \\frac{1}{\\text{h}}$$\n",
    "---\n",
    "\n",
    "We also know it as part of the biomass part of the fermenter equation:\n",
    "\n",
    "$$\\frac{dC_X}{dt}=\\mu C_X $$  \n",
    "---\n",
    "\n",
    "We can integrate the above equation by hand, or alternatively we can integrate the equation numerically like in the previous section. For a constant $\\mu$ an exponential growth curve will always be obtained. Let's look at the $C_X$ plot from the previous section:\n",
    "\n",
    "<img src=\"growth.png\" width=\"450\" />\n",
    "\n",
    "We are effectively modelling the following:\n",
    "\n",
    "[Video: Bacterial growth](https://www.youtube.com/watch?v=gEwzDydciWc)\n",
    "\n",
    "Think of bacteria as an investment in the bank. Take an investment of a $1000$ dollar, with an interest rate of 12% per year. The question is how much interest will be earned after a year. Is it a mere $120$ dollar where 12% gets added after a year, or should the interest rather be calculated on a monthly basis where 1% interest will be earned in a month? This should be better since the growth of the investment is calculated more regularly and accordingly the earned interest can start to earn interest of its own. You should be able to show to yourself that if interest is calculated on a monthly basis (1% per month) the investment will be worth $1000\\times(1.01)^{12}=1126.83$ after a year, so an $126.83$ dollar increase instead of $120$ dollar. The greedy will now demand a daily calculation of interests so that the annual growth will be $1000\\times(1+\\frac{0.12}{365})^{365}-1000 = 127.48$. The super greedy will demand an instantaneous calculation of interest, so that the maximum can be earned. Doing this will result in the absolute maximum of $127.50$ dollar annual growth. The calculation is based on a continuous function, where the time differential of **the investment (x)**  is given by:\n",
    "\n",
    "$$\\frac{dx}{dt}=0.12x$$\n",
    "\n",
    "and thus\n",
    "\n",
    "$$ x(1)=1000 \\,e^{\\,0.12(1)}=1127.50$$  \n",
    "\n",
    "\n",
    "\n",
    "\n",
    "\n",
    "\n"
   ]
  },
  {
   "cell_type": "markdown",
   "metadata": {},
   "source": [
    "If you understand instantaneous interest you understand $\\mu$. From an investment perspective of growth we might be interested in calculating the **fractional hourly increase (FHI)** of biomass. Show to yourself that:\n",
    "\n",
    "$$FHI(t) = \\frac{e^{\\,\\mu t}}{e^{\\,\\mu (t - 1)}}-1$$\n",
    "\n",
    "For the above equation the unit of time is hours. You will note that the FHI is very close to $\\mu$ if $\\mu<0.2$. For larger $\\mu$ FHI will be much larger than $\\mu$. The equation can be further simplified to:\n",
    "\n",
    "$$FHI = e^{\\,\\mu}-1$$\n",
    "\n",
    "One can also ask how long it takes to double the biomass content. Prove to yourself that the doubletime ($t_d$) can be determined as:\n",
    "\n",
    "$$t_d=\\frac{ln(2)}{\\mu}$$\n",
    "\n",
    "Typical double times vary from 1 to 7 hours, although certain _E.coli_ strains have been reported to double itself in 20 minutes."
   ]
  },
  {
   "cell_type": "markdown",
   "metadata": {},
   "source": [
    "### Do you now have a grip on what $\\mu$ is?"
   ]
  }
 ],
 "metadata": {
  "kernelspec": {
   "display_name": "Python 3 (ipykernel)",
   "language": "python",
   "name": "python3"
  },
  "language_info": {
   "codemirror_mode": {
    "name": "ipython",
    "version": 3
   },
   "file_extension": ".py",
   "mimetype": "text/x-python",
   "name": "python",
   "nbconvert_exporter": "python",
   "pygments_lexer": "ipython3",
   "version": "3.9.13"
  }
 },
 "nbformat": 4,
 "nbformat_minor": 1
}
