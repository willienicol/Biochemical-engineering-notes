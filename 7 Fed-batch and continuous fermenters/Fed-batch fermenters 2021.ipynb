{
 "cells": [
  {
   "cell_type": "markdown",
   "metadata": {},
   "source": [
    "## Fed-batch fermentation\n",
    "\n",
    "The purpose of this example/tutorial is to show the advantage of using fed-batch fermenters. The notes will guide you into calculations that you will have to perform yourself in order to understand the core principles of this fermentation mode. Numerous microbes have slow growth rates when exposed to high substrate concentrations. Accordingly all the substrate cannot be added at the start of the fermentation (like all the batch fermenter examples that we have done up to now). To keep the substrate concentration in the fermenter low, substrate can be added continuously to compensate for the consumption of substrate by the microbes. We will show how this strategy is highly beneficial to productivity and hence the economics of the process.\n",
    "\n",
    "The mathematical description of the fermentation process will alter slightly since the liquid volume in the fermenter will increase as time progress. It will be shown how the cmol balance can be adapted to incorporate the continuous feed of substrate (glucose). Have a look at this video to get started:\n",
    "\n",
    "[Video: Lecture 18: Gradual addition of substrate](https://youtu.be/xXjsjX2ULxw)\n",
    "\n",
    "As example we'll use a _Lactobacillus_ strain that is severely inhibited by high glucose concentrations. Lactic acid will be the sole excreted metabolite in the example. Let's jump in by setting up the flux model for the organism. The necessary theory will follow as we progress through the problem. The metabolic map is given below:\n",
    "\n",
    "<img src=\"lacmap1.png\" width=\"450\" />\n"
   ]
  },
  {
   "cell_type": "markdown",
   "metadata": {},
   "source": [
    "The following physiological parameters will be used:\n",
    "\n",
    "\n",
    "|$\\alpha \\qquad \\qquad$|$\\gamma \\qquad \\qquad $|$\\mu_{max} \\qquad$|$\\theta_{max}\\qquad$\n",
    "|----|-|-|-\n",
    "|$\\frac{cmol\\,CO_2}{cmol \\, X}$|$\\frac{mol \\, ATP}{Cmol \\, X}$|$\\frac{1}{h}$|$\\frac{mol \\, ATP}{cmol\\,X\\cdot h}$\n",
    "|0.05|1.8|0.4|0.09\n",
    "\n",
    "Let's assume the standard biomass formula of $CH_{1.8}O_{0.5}N_{0.2}$.\n",
    "\n",
    "The growth and maintenance functions are given below:\n",
    "\n",
    "$$\\mu=\\mu_{max}\\left[\\frac{Cs}{Km+Cs}\\right] \\left[1+\\frac{C_P}{K_P} \\right]^{-1} \\left[1+\\frac{C_S}{K_S} \\right]^{-1}$$\n",
    "\n",
    "$$\\theta=\\theta_{max}\\left[\\frac{Cs}{Km+Cs}\\right]$$\n",
    "\n",
    "Parameters are defined in the cell below:"
   ]
  },
  {
   "cell_type": "code",
   "execution_count": 1,
   "metadata": {
    "collapsed": true,
    "jupyter": {
     "outputs_hidden": true
    }
   },
   "outputs": [],
   "source": [
    "Km, Kp, Ks = 0.001, 4, 0.5"
   ]
  },
  {
   "cell_type": "markdown",
   "metadata": {},
   "source": [
    "Let's start by plotting the glucose inhibition characteristics. Ignore the formation of product for now and plot $\\mu$ as a function of $C_S$. You should get something like this:\n",
    "\n",
    "<img src=\"mu_vs_cs1.png\" width=\"550\" />"
   ]
  },
  {
   "cell_type": "markdown",
   "metadata": {},
   "source": [
    "Set up the response function and integrate a batch fermenter where $C_{Xo}$ and $C_{So}$ is given by:"
   ]
  },
  {
   "cell_type": "code",
   "execution_count": 3,
   "metadata": {
    "collapsed": true,
    "jupyter": {
     "outputs_hidden": true
    }
   },
   "outputs": [],
   "source": [
    "Cxo=0.003  #cmol\\L\n",
    "Cso=6      #cmol/L"
   ]
  },
  {
   "cell_type": "markdown",
   "metadata": {},
   "source": [
    "Repeat the integration but omit the substrate inhibition term, accordingly:\n",
    "\n",
    "$$\\mu=\\mu_{max}\\left[\\frac{Cs}{Km+Cs}\\right] \\left[1+\\frac{C_P}{K_P} \\right]^{-1} $$\n",
    "\n",
    "Compare the profiles of the two scenarios. You should get something like this:\n",
    "\n",
    "<img src=\"batch_compare1.png\" width=\"850\" />\n"
   ]
  },
  {
   "cell_type": "markdown",
   "metadata": {},
   "source": [
    "Make sure to note major difference in the time it takes to complete the fermentation. Remember for the process engineer time is equivalent to money. So it should be evident that the substrate inhibition effect ($\\left[1+\\frac{C_S}{K_S} \\right]^{-1}$) is not good for productivity."
   ]
  },
  {
   "cell_type": "markdown",
   "metadata": {},
   "source": [
    "We now want to adress the issue by gradually adding glucose to the fermenter. To do this we need to consider the original cmol component balance given in [section 5.3](https://nbviewer.jupyter.org/github/willienicol/Biochemical-engineering-notes/blob/master/5%20Basic%20bioreactor%20modeling/The%20fermenter%20equation.ipynb):\n",
    "\n",
    "$$\\frac{dN_i}{dt}=Q^F C^F_i-QC_i  + r_i C_X V $$  \n",
    "\n",
    "Since there will be no outlet flow from the fermenter, the equation will reduce to:\n",
    "\n",
    "$$\\frac{dN_i}{dt}=Q^F C^F_i + r_i C_X V $$\n",
    "\n",
    "Note that the superscript $^F$ is used for the feed stream. The change in fermenter volume will be given by:\n",
    "\n",
    "$$\\frac{dV}{dt}=Q^F$$\n",
    "\n",
    "To incorporate these equations we need to alter the fermenter equation in the code. The easiest route is to integrate the cmol amounts ($N_i$) and to calculate concentration afterwards given the known cmol amounts and volume ($C_i=\\frac{Ni}{V}$). The response function will remain the same and will still be described by concentrations. We will also add volume ($V$) as an additional variable to the fermenter equation in order to incorporate the volume change within the fermenter equation. Below is the incomplete fermentation equation:\n"
   ]
  },
  {
   "cell_type": "code",
   "execution_count": 7,
   "metadata": {
    "collapsed": true,
    "jupyter": {
     "outputs_hidden": true
    }
   },
   "outputs": [],
   "source": [
    "def ferm_eq(N,t):\n",
    "    Cx, Cs, Cp, V = N[0]/N[3],N[1]/N[3],N[2]/N[3],N[3]  # defining concentration and volume, Note that N=[Nx,Ns,Np,V]\n",
    "    r=response_fun([Cx, Cs, Cp])                        # same as before\n",
    "    \n",
    "    return []  # Complete this on your own "
   ]
  },
  {
   "cell_type": "markdown",
   "metadata": {},
   "source": [
    "Make sure you understand that $N=[N_X, N_S, N_P, V]$ is passed between the integration function (**odeint**) and the fermentation equation (**ferm_eq**). The initial condition will thus consist out of cmol amounts and volume and not just concentrations like we had in our batch fermenter models.\n",
    "\n",
    "In the end we still want to plot concentrations. These can be obtained after the integration is completed by merely deviding with the volume at the specific instant in time:\n",
    "\n",
    "$$C_i(t)=\\frac{N_i(t)}{V(t)}$$\n",
    "\n",
    "To test whether you understand the description above, you need to model the fed-batch fermenter on your own. You can use the following conditions:"
   ]
  },
  {
   "cell_type": "code",
   "execution_count": 8,
   "metadata": {
    "collapsed": true,
    "jupyter": {
     "outputs_hidden": true
    }
   },
   "outputs": [],
   "source": [
    "V, Csf, Qf = 1000, 400/30, 8  #L, cmol/L, L/h\n",
    "Cso, Cxo = 0.1, 0.003          #cmol/l"
   ]
  },
  {
   "cell_type": "markdown",
   "metadata": {},
   "source": [
    "Take your time and think carefully. See this as a test of your understanding of the Python code used upto now. One should not confuse $C_{So}$ with $C_S^F$, $C_{So}$ is the initial glucose concentration in the fermenter, while $C_S^F$ is the glucose concentration in the stream that is fed to the fermenter. $C_S^F$ will typically be high since we don't want to increase the volume of the fermenter by too much.\n",
    "\n",
    "If you are good, you will end with something like this:\n",
    "\n",
    "<img src=\"fedbatch11.png\" width=\"550\" />"
   ]
  },
  {
   "cell_type": "markdown",
   "metadata": {},
   "source": [
    "There is a lot to analyse given this picture:"
   ]
  },
  {
   "cell_type": "markdown",
   "metadata": {},
   "source": [
    "The first thing to realise is that the fermentation won't stop like our previous batch fermentations. As long as we add sugar the fermentation will continue. When comparing the above graph to the previous batch fermentation, you will see that it took approximately 110 hours to reach a lactic acid concentration of $5.5\\frac{cmol}{L}$ compared to the approximately 150 hours of the batch fermenter. From a productivity perspective this will make the bioprocess engineer smile.\n",
    "\n",
    "If you calculate the volume after 120 hours you will note that the fermenter volume has almost doubled (1960 $L$). The fermentation has to stop when the fermenter is full and this will depend on the physical size of the fermenter itself. We will base the productivity of the fermenter on the final liquid volume of the fermenter. Compare the productivity of the batch and fed-batch system, by using the final product concentration in the batch fermenter as the endpoint. \n",
    "\n",
    "[1.07 & 1.5 $\\frac{g}{L \\cdot h}$] \n",
    "\n",
    "The glucose concentration against time had an interesting characteristic. There is an initial bump followed by an **almost zero** 'regime' of $C_S$. This relates to the amount of biomass in the fermenter ($C_X$) and the constant addition rate of glucose. Initially $C_X$ is not enough to consume all the added glucose and accordingly there is accumulation of glucose. As $C_X$ is increased the condition is reversed up to the point where **all glucose fed is immediately consumed**. This occurs at around 43 hours. For the remainder of the fermentation the glucose addition rate controls the growth and production of lactic acid. Play around with changing $Q^F$ and see whether the profiles make sense. Remember that high $C_S$ will inhibit $\\mu$ and that the magnitude of $\\mu$ determines the uptake of glucose.\n"
   ]
  },
  {
   "cell_type": "markdown",
   "metadata": {},
   "source": [
    "Let's now plot $\\mu$ as a function of time. You can use the code below to convert your $N$ matrix to a $C$ matrix in order to run the asarray command like before:"
   ]
  },
  {
   "cell_type": "code",
   "execution_count": null,
   "metadata": {
    "collapsed": true,
    "jupyter": {
     "outputs_hidden": true
    }
   },
   "outputs": [],
   "source": [
    "# from numpy import asarray\n",
    "# Ci=(N[:, :3].T/N[:, 3]).T                   #first 3 elements of N devided by 4th element to get Ci, \n",
    "# r=numpy.asarray([res_fun(C) for C in Ci])"
   ]
  },
  {
   "cell_type": "markdown",
   "metadata": {},
   "source": [
    "You should obtain the following:\n",
    "\n",
    "<img src=\"mu_vs_time1.png\" width=\"600\" />"
   ]
  },
  {
   "cell_type": "markdown",
   "metadata": {},
   "source": [
    "Interesting. In the first regime up to 43 hours $\\mu$ is clearly influenced by $C_S$ where high $C_S$ gives low $\\mu$ values. This is a direct influence of the $\\left[1+\\frac{C_S}{K_S} \\right]^{-1}$ term.\n",
    "\n",
    "In the second regime beyond 43 hours we have a scenario where the $C_S$ values are very low and accordingly the Monod term ($ \\left[\\frac{Cs}{Km+Cs} \\right] $) has a major effect on $\\mu$. Note that though $C_S$ might appear to be approaching zero, it has a magnitude that controls the value of $\\mu$ that is non-zero as observed above.\n",
    "\n",
    "Considering the glucose balance we have the following:\n",
    "\n",
    "$$\\frac{dN_S}{dt}=Q^F C^F_S + r_S C_X V $$\n",
    "\n",
    "Determine the value of the two non-differential terms at 90 and 120 hours [106.67 and -106.67 $\\frac{cmol}{h}$ for both times]\n",
    "\n",
    "This should tell you that whatever gets added, gets consumed and that no accumulation of glucose is occurring. The chemical engineer will say that the glucose balance is at steady state. \n",
    "\n",
    "Convince yourself from the equation above that $r_S$ must decrease as time progress in regime 2. This will cause $\\mu$ to decrease as observed above.\n",
    "\n",
    "\n"
   ]
  },
  {
   "cell_type": "markdown",
   "metadata": {},
   "source": [
    "### Further improving productivity:\n",
    "\n",
    "The issue in the fed-batch fermenter above was that we fed too much glucose initially (at low $C_X$) and too little towards the end of the fermentation (at high $C_X$). Let's consider increasing $Q^F$ as time progress. We can use the simple liner function:\n",
    "\n",
    "$$Q^F=kt$$\n",
    "\n",
    "Note that you will have to calculate $Q^F$ within the time dependent fermenter equation since it not a constant anymore. Use a k value of $1 \\frac{L}{h^2}$ and see if you can generate the following graph:\n",
    "\n",
    "<img src=\"fedbatch21.png\" width=\"600\" />\n"
   ]
  },
  {
   "cell_type": "markdown",
   "metadata": {},
   "source": [
    "Convince yourself that the productivity at the previous $C_P$ final value is now $3.9 \\frac{g}{L \\cdot h}$. Much better than before, **but why?** What is the ever increasing value of  $Q^F$ doing to $\\mu$ and $r_P$ in the 'second regime'?\n",
    "\n",
    "Increase the k value to $1.2 \\frac{L}{h^2}$ and see if you can get this:\n",
    "\n",
    "<img src=\"fedbatch31.png\" width=\"600\" />"
   ]
  },
  {
   "cell_type": "markdown",
   "metadata": {},
   "source": [
    "What is happening here? It is as if the microbes are saying: \"you have overstayed your welcome!\". What is the mathematical cause for the unfavourable event?"
   ]
  },
  {
   "cell_type": "markdown",
   "metadata": {},
   "source": [
    "### CBI310 higher grade (won't be asked in exam)\n",
    "\n",
    "Given the major productivity improvement that we have obtained by adjusting the flowrate with time, the greedy bioprocess engineer will be interested in the optimum flowrate addition function. We can start by finding the $C_S$ value that will optimise $\\mu$ in the function:\n",
    "\n",
    "$$\\mu=\\mu_{max}\\left[\\frac{Cs}{Km+Cs}\\right] \\left[1+\\frac{C_P}{K_P} \\right]^{-1}\\left[1+\\frac{C_S}{K_S} \\right]^{-1}$$\n",
    "\n",
    "Repeat the $\\mu$ vs $C_S$ plot that we had at the beginning of the example, but choose a much smaller $C_S$ span. You will see the $C_S=0.022 \\frac{cmol}{L}$ gives the highest $\\mu$. If we can operate the fermenter at this $C_S$ value we'll have the perfect balance between substrate inhibition and Monod inhibition. But how do we manipulate $Q^F$ in order to keep $C_S$ constant?  \n",
    "\n",
    "We need to calculate $Q^{\\,f}$ such that  $\\frac{dC_S}{dt}=0$. If this is obeyed $C_S$ will remain at the initial value of $C_S^o$. The following manipulation can be performed to obtain the function for $Q^{\\,f}$:\n",
    "\n",
    "$$\\frac{dN_S}{dt}=V\\frac{dC_S}{dt}+C_S \\frac{dV}{dt}  $$\n",
    "\n",
    "$$\\frac{dV}{dt}=Q^{\\,f} $$\n",
    "\n",
    "$$ \\frac{dC_s}{dt}=\\frac{1}{V} \\left[ \\frac{dN_S}{dt}-C_S Q^{\\,f} \\right]=0 $$\n",
    "\n",
    "$$Q^{\\,f}= \\frac{1}{C_S} \\frac{dN_S}{dt}=\\frac{1}{C_S} \\left[Q^fC_s^f+r_S C_XV \\right]$$\n",
    "\n",
    "$$Q^{\\,f}= \\frac{r_S C_XV}{C_S-C_S^f} $$\n",
    "\n",
    "You now need to implement this fancy control strategy into the **fermenter equation**. If successful you will bring the productivity up to $7.5 \\frac{g}{L \\cdot h}$ at the $C_P^{\\text{final}}$ used before."
   ]
  },
  {
   "cell_type": "markdown",
   "metadata": {},
   "source": [
    "[Back to Contents page](https://nbviewer.jupyter.org/github/willienicol/Biochemical-engineering-notes/blob/master/List%20of%20contents.ipynb)"
   ]
  },
  {
   "cell_type": "code",
   "execution_count": null,
   "metadata": {
    "collapsed": true,
    "jupyter": {
     "outputs_hidden": true
    }
   },
   "outputs": [],
   "source": []
  }
 ],
 "metadata": {
  "kernelspec": {
   "display_name": "Python 3",
   "language": "python",
   "name": "python3"
  },
  "language_info": {
   "codemirror_mode": {
    "name": "ipython",
    "version": 3
   },
   "file_extension": ".py",
   "mimetype": "text/x-python",
   "name": "python",
   "nbconvert_exporter": "python",
   "pygments_lexer": "ipython3",
   "version": "3.7.3"
  }
 },
 "nbformat": 4,
 "nbformat_minor": 4
}
