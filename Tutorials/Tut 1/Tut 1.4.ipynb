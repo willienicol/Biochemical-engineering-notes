{
 "cells": [
  {
   "cell_type": "markdown",
   "metadata": {},
   "source": [
    "# Human physiology \n",
    "## 1. Sugar metabolism in humans\n",
    "\n",
    "The human metabolism is a complex system to study as it takes place in various organs in the body and there are many different interactions at play. In essence, food consists of three main components: proteins, carbohydrates (sugars), and lipids (fats). These components are each converted to energy through different metabolic pathways. In this course, we are mostly interested in the metabolism of sugar. To simplify it even more, we only look at one type of sugar: glucose.\n",
    "\n",
    "Glucose is broken down by our body through glycolysis and then used in the TCA cycle to provide energy to our cells. The process of breaking down glucose in the cells is done in the presence of oxygen. If no oxygen is available, the glucose is fermented and it will form lactic acid (in humans).\n",
    "\n",
    "When looking at dietary intake, 1 gram of sugar provides us with about 4 kcal. The amount of calories consumed by a human-being is dependent on their work output. The work output becomes higher as a person becomes more active. For the average female 1800-2200 kcal need to be consumed a day to maintain their weight, whereas for the average male this lies between 2500-2800 kcal. The work output is usually expressed in [W/kg].\n",
    "\n",
    "The following formula shows the overall reaction of glucose consumption in our cells:\n",
    "$C_{6}H_{12}O_{6} + x O_{2} \\rightarrow y CO_{2} + z H_{2}O + energy$\n",
    "\n",
    "<img src=\"coke.png\" width=\"450\" />\n",
    "\n",
    "### Tutorial problem 1:\n",
    "a) A person has a work output of 0.325 W/kg and weighs 75 kg. The work output to kilojoule input ratio is 1:4. Calculate how many cans of coke (330 mL) this person must drink in a day to maintain their weight? We assume that coke is essentially just sugar and water.\n",
    "\n",
    "b) Assume that all the sugar in the can of coke is glucose. How many moles of glucose is the person drinking?\n",
    "\n",
    "c) Solve for x, y, and z in the overall reaction. (Use elemental balances)"
   ]
  },
  {
   "cell_type": "markdown",
   "metadata": {},
   "source": [
    "## 2. Oxygen consumption rates\n",
    "\n",
    "As shown in the overall reaction, oxygen is consumed during the sugar metabolism. Usually, sufficient oxygen is present and no fermentation takes place. However, when we play sports our glucose consumption rate sky-rockets and thus our oxygen consumption rate needs to keep up. This is possible to a certain extent, however, at a point we hit a ceiling. This ceiling is called our maximal oxygen uptake or $V_{O2max}$. This value is different for each individual and can be increased by doing exercise or, for smokers, quitting smoking. On average, the $V_{O2max}$ of a healthy male is 35–40 mL/(kg·min) and for a female 27–31 mL/(kg·min). This is pretty low compared to other animals such as Alaskan huskies. In the Iditarod Trail Sled Dog Race their $V_{O2max}$ values were recorded to be as high as 240 mL/(kg·min). If the $V_{O2max}$ is exceeded, no more oxygen can be taken up by the body and anaerobic processes start to occur. This is when lactic acid forms in the muscles and terrible muscle aches develop. \n",
    "\n",
    "<img src=\"husky.jpg\" width=\"450\" />\n",
    "\n",
    "### Tutorial problem 2\n",
    "a) You are given the same conditions in tutorial problem 1. If oxygen is used by the body with an efficiency of 40 % and a person breathes 12 times a minute. How big must their breaths be to provide sufficient oxygen to burn all the glucose (in mL)? Assume the ideal gas law holds. The conditions are P = 101.325 kPa and T = 298 K.\n",
    "\n",
    "b) A person consumes 10 ATP/h while doing sports. The (P/O) ratios for FADH2 and NADH are 1.5. If their $V_{O2max}$ = 30 mL/(kg.min), will this person reach their $V_{O2max}$. Assume the ideal gas law holds. The conditions are P = 101.325 kPa and T = 298 K.\n",
    "\n",
    "c) A person breathes 12 times a minute and their breath is 200 mL of air. (Assume the ideal gas law holds. The conditions are P = 101.325 kPa and T = 298 K.) They use oxygen with 70 % efficiency. How much glucose can they burn in an hour (moles)? How many calories does this glucose equal to (assume: 1 gram glucose = 4 kcal)? Would you say this person was most likely at rest or doing physical exercise? (See: https://www.bmi3d.com/calorieconsumption.html)"
   ]
  },
  {
   "cell_type": "markdown",
   "metadata": {},
   "source": [
    "# 3. Lactic acid production\n",
    "\n",
    "When the maximal oxygen uptake is exceeded, a fermentative pathway is activated by the cell which produces lactic acid in humans. The pathway is shown in the figure below.\n",
    "\n",
    "<img src=\"Fermentation.jpg\" width=\"450\" />\n",
    "\n",
    "### Tutorial problem 3\n",
    "\n",
    "An 80-kg sprinter has a $V_{O2max}$ = 40 mL/(kg.min). The (P/O) ratios for FADH2 and NADH are 1.5 and all energy comes from glucose. The energy consumption to work output ratio is 4:1. Air is at 1 atm and 25 $^\\circ$C. (Assume: ideal gas law holds).\n",
    "\n",
    "a) For a work output of 4.0 W/kg, is the sprinter exceeding his $V_{O2max}$?\n",
    "\n",
    "b) How much ATP should be produced by the fermentative pathway? Hint: think about the relationship between burning 1 mol of glucose aerobically and the amount of ATP produced.\n",
    "\n",
    "c) How much glucose is consumed anaerobically? What fraction is this of the total glucose consumption?\n",
    "\n",
    "d) Now consider that the (P/O) ratios of NADH and FADH2 are often different. Let the (P/O) ratio of NADH be 1.5 and that of FADH2 be 1.0. Do the answers to (a) and (b) change? What is the new answer to (c)?"
   ]
  },
  {
   "cell_type": "code",
   "execution_count": null,
   "metadata": {},
   "outputs": [],
   "source": []
  }
 ],
 "metadata": {
  "kernelspec": {
   "display_name": "Python 3",
   "language": "python",
   "name": "python3"
  },
  "language_info": {
   "codemirror_mode": {
    "name": "ipython",
    "version": 3
   },
   "file_extension": ".py",
   "mimetype": "text/x-python",
   "name": "python",
   "nbconvert_exporter": "python",
   "pygments_lexer": "ipython3",
   "version": "3.7.7"
  },
  "toc": {
   "base_numbering": 1,
   "nav_menu": {},
   "number_sections": true,
   "sideBar": true,
   "skip_h1_title": false,
   "title_cell": "Table of Contents",
   "title_sidebar": "Contents",
   "toc_cell": false,
   "toc_position": {},
   "toc_section_display": true,
   "toc_window_display": false
  }
 },
 "nbformat": 4,
 "nbformat_minor": 2
}
