{
 "cells": [
  {
   "cell_type": "markdown",
   "metadata": {},
   "source": [
    "## Tut 1.2\n"
   ]
  },
  {
   "cell_type": "markdown",
   "metadata": {},
   "source": [
    "Life is supported by three macronutrients (proteins, carbohydrates, and fats). These form the basis of our diet and each needs to be consumed each day. But there is a problem, how do we get enough of these three to be healthy and fit? We don't want to be foraging or hunting all day every day. So we started farming. We selected a few people that would dedicate their lives to producing food for the rest so that they could focus on other tasks.\n",
    "\n",
    "<img src=\"farm.jpg\" width=\"500\" />\n"
   ]
  },
  {
   "cell_type": "markdown",
   "metadata": {},
   "source": [
    "a) Find two locally produced sources of each macronutrient?\n",
    "\n",
    "b) In 1920 the worlds population was 1.8 billion up from 1 billion in 1820, now we have exploded to 7.7 billion people. What event made this possible?\n",
    "\n",
    "c) What are the essential amino acids (EAA)? What animal and plant sources contain all the amino acids?\n",
    "\n",
    "Due to the vast amounts of greenhouse gas emissions involved in the production of beef, many people have opted for chicken in order to lessen the load on the environment. Even though the impact of poultry farming in comparison to beef farming may seem acceptable, the greenhouse gas emissions per serving of poultry are 11 times higher than for one serving of beans [[1]](https://www.vox.com/future-perfect/2019/12/4/20993654/chicken-beef-climate-environment-factory-farms). Between 6000 L and 30000 L of high quality water are used to produce a tonne of chicken and slaughterhouse operation are also responsible for the discharge of nutrient-rich wastewater into the environment [[2]](https://www.fao.org/ag/againfo/home/events/bangkok2007/docs/part2/2_2.pdf). After heavy rainfall the large amounts of nitrogen, phosphorous and potassium present in poultry manure contaminate various water sources such as groundwater, creeks and canals [[3]](https://haguewaterofmd.com/poultry-farm-pollution-and-its-effects-on-drinking-water/). \n",
    "\n",
    "d) The recommened daily amount of EAA for a 70 kg man is 12880 mg/100g. How many grams of chicken or soybeans would you need to consume to reach this amount?\n",
    "\n",
    "e) What are alternative dietery sources of protein?\n",
    "\n",
    "Sustainability is far more complex that just what you put on your plate. Every time you step into your car or use a single-use plastic item it is a contribution to the current global crisis. Complete the following survey to see how sustainable your life is: [Whats my footprint](https://www.footprintcalculator.org/)"
   ]
  },
  {
   "cell_type": "code",
   "execution_count": null,
   "metadata": {},
   "outputs": [],
   "source": []
  }
 ],
 "metadata": {
  "kernelspec": {
   "display_name": "Python 3",
   "language": "python",
   "name": "python3"
  },
  "language_info": {
   "codemirror_mode": {
    "name": "ipython",
    "version": 3
   },
   "file_extension": ".py",
   "mimetype": "text/x-python",
   "name": "python",
   "nbconvert_exporter": "python",
   "pygments_lexer": "ipython3",
   "version": "3.7.7"
  },
  "toc": {
   "base_numbering": 1,
   "nav_menu": {},
   "number_sections": true,
   "sideBar": true,
   "skip_h1_title": false,
   "title_cell": "Table of Contents",
   "title_sidebar": "Contents",
   "toc_cell": false,
   "toc_position": {},
   "toc_section_display": true,
   "toc_window_display": false
  }
 },
 "nbformat": 4,
 "nbformat_minor": 2
}
