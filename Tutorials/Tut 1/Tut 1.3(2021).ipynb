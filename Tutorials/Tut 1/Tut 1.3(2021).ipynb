{
 "cells": [
  {
   "cell_type": "markdown",
   "metadata": {},
   "source": [
    "## An engineer's introduction to biochemistry\n",
    "\n",
    "One key feature that defines a living system (or in CBI’s case: a living catalyst) is its ability to replicate. When viewed at the molecular level, this process is referred to as the [**central dogma** of biochemistry](https://en.wikipedia.org/wiki/Central_dogma_of_molecular_biology). Essentially, it describes how cells can take stored information/blueprints (DNA) and make its working machinery (proteins).  Once a critical point/mass has been reached a cell may divide in two identical copies of the original, after which the process may repeat in each copy, should the conditions be favourable and thus resulting in exponential growth.\n",
    "\n",
    "<img src=\"centraldogma.png\" width=\"800\" />\n",
    "          \n",
    "<center>The central dogma simplified <a href=\"/The central dogma/https://genius.com/Biology-genius-the-central-dogma-annotated\">(genius.com)</a></center>\n",
    "\n",
    "Although, from the cells point of view, its objective is to reproduce itself, it has certain physical and chemical constraints it must conform to. In order to maximise its growth, whilst adhering to these constraints, cells need to control their internal environment to maintain **homeostasis**.  This is typically accomplished by controlling what proteins are present and how many of them are present at any given moment.  And thus, DNA can be viewed as the cells ‘recipe book’ from which it chooses which proteins/’dishes’ to prepare. These decisions are constantly being made in every living cell, as proteins will degrade given a certain amount of time, a process referred to as __biological half-life__.  For the purposes of CBI, this can be viewed as **cellular maintenance**, a process in which no new biomass is produced but rather constantly replenished to keep the cell from dying.\n",
    "\n",
    "In particular, one subclass of protein, namely enzymes, are of interest to the bioreaction engineer.  These functional units are the internal catalysts that form the cellular factory line biochemists refer to as the __metabolism__.  By controlling the production of these key biomolecules, a cell can gain or lose the ability to catalyse a specific reaction, and thus control the flow (flux) of consumed carbon through a metabolic route.  In fact, it is this very feature that defines what organism the cell “becomes”: which genes (parts of DNA) the cell has at its disposal and how their protein-products interact with each other and the external environment based on their physical and thermodynamic capabilities.  It is also this very feature that attracts human interest, for if we can understand how these parts fit together, we can manipulate them to create designer organisms optimized to produce or consume a plethora of relevant chemicals.\n",
    "\n",
    "It should be clear to you now, that a basic understanding of how a cell operates may prove to be very useful in order to favourably manipulate it as a bio-catalyst.  As a Chemical Engineer you have come to understand the advantage in the computing power of Python coding, however in this tutorial you will get your first glimpse into the coding language of life itself.  The outcome of this tutorial is help you get a better grip on terminology such as __DNA, RNA, Proteins, Replication, Transcription and Translation__ (to name but a few).  This knowledge will be key to interpreting the fermentation graphs you will be generating later on in this course.\n",
    "\n",
    "In your group of three, assess each other's work (peer assessment). "
   ]
  },
  {
   "cell_type": "markdown",
   "metadata": {},
   "source": [
    "### Problem 1\n",
    "\n",
    "As a group of 3, search for relevant resources (Wikipedia articles, YouTube videos, etc.) that would help you decode the sequence of amino acids hidden in a snippet of DNA (given below). Be aware that the problem contains a few hurdles. Once you feel confident that you have solved the problem, check with one of the assistants if you are correct, and give each of the members in your group a mark out of 5 for their contribution to solving the problem. \n",
    "\n",
    "Tip: the hidden message is encoded as the one-letter abbreviations for the specific amino acids used to build the protein. Assume this to be bacterial DNA.\n",
    "\n",
    "Should you require assistance you may ask a teaching assistant to give you a tip on how to proceed, know just that this may or may not have an impact on your final score.  \n",
    "Best of luck.\n"
   ]
  },
  {
   "cell_type": "markdown",
   "metadata": {},
   "source": [
    "<img src=\"TUT3pep3.PNG\" width=\"1000\"/>"
   ]
  },
  {
   "cell_type": "markdown",
   "metadata": {},
   "source": [
    "__Reflect__:\n",
    "What words can you not make based on how DNA is transcribed? Discuss this."
   ]
  },
  {
   "cell_type": "markdown",
   "metadata": {},
   "source": [
    "### Problem 2 (External Group Assignment)\n",
    "\n",
    "Now that you know how a cell decodes DNA to generate a protein, your next task is to reverse engineer a similar problem of your own. You may choose any word/phrase to write out as a snippet of DNA.  Give the code to any 3 students, not within your own group, to solve. (You should receive their codes to solve as well). You will be awarding a mark (out of 5) for how accurate your peers have solved your problem, and they will be giving you a mark on how well you designed your problem.  All marks should be awarded by the end of the session.\n"
   ]
  }
 ],
 "metadata": {
  "kernelspec": {
   "display_name": "Python 3",
   "language": "python",
   "name": "python3"
  },
  "language_info": {
   "codemirror_mode": {
    "name": "ipython",
    "version": 3
   },
   "file_extension": ".py",
   "mimetype": "text/x-python",
   "name": "python",
   "nbconvert_exporter": "python",
   "pygments_lexer": "ipython3",
   "version": "3.6.3"
  }
 },
 "nbformat": 4,
 "nbformat_minor": 2
}
