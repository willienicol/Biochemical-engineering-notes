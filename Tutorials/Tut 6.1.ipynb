{
 "cells": [
  {
   "cell_type": "markdown",
   "metadata": {},
   "source": [
    "### Tutorial 6.1\n",
    "\n",
    "Modified _E.coli_ can be used to produce succinic acid without forming any by-products. The modified metabolism is given below.\n",
    "\n",
    "<img src=\"homosucc.png\" width=\"550\" />\n",
    "\n",
    "Note that the pathway to acetic acid is not present since the gene coding for the required enzyme was removed. Also note that the PEP carboxykinase enzyme (found natively in _A. succinogenes_ from Tut 4.1) was added to the  organism by inserting the relevant gene.\n",
    "\n",
    "The flux model is supplied, but make sure you can set it up yourself (this might take some time so you can do it after performing the integration part of the problem). Like before the flux model is supplied in a hidden format. Ten equations are supplied in [Tut6.1eq.xlsx](https://github.com/willienicol/Biochemical-engineering-notes/blob/master/Tutorials/Tut6.1eq.xlsx), with equation 10 representing the energy balance. All equations are equal to zero except the energy balance that is equal to $\\theta$. All rates correspond to the flux numbers on the map with $r_{11}$ representing $CO_2$\n",
    "\n",
    "It is easy to transfer the 12x10 matrix into Python and add specification equations. You can use the code below. Ensure that the Excel file is in the same directory as the Jupyter notebook file.\n",
    "\n",
    "The code below generates the matrix for anaerobic conditions where $r_O$ is specified as zero, while $r_X=\\mu$ is specified as basis.\n"
   ]
  },
  {
   "cell_type": "code",
   "execution_count": 1,
   "metadata": {
    "collapsed": true
   },
   "outputs": [],
   "source": [
    "import pandas, numpy\n",
    "M = numpy.matrix(pandas.read_excel('Tut6.1eq.xlsx'))\n",
    "M1 = numpy.vstack([M,[0,1,0,0,0,0,0,0,0,0,0,0],[0,0,0,0,0,0,0,0,0,0,1,0]])\n"
   ]
  },
  {
   "cell_type": "markdown",
   "metadata": {},
   "source": [
    "The physiological parameters can be taken as:\n",
    "\n",
    "|$\\alpha \\qquad \\qquad$|$\\gamma \\qquad \\qquad $|$\\mu_{max} \\qquad$|$\\theta_{max}\\qquad$\n",
    "|----|-|-|-|-\n",
    "|$\\frac{\\text{cmol $CO_2$}}{\\text{cmol X}}$|$\\frac{\\text{mol ATP}}{\\text{cmol X}}$|$\\frac{1}{\\text{h}}$|$\\frac{\\text{mol ATP}}{\\text{cmol X}\\cdot \\text{h}}$\n",
    "|0.1|2.2|0.3|0.08\n",
    "\n",
    "The inhibition functions are given by:\n",
    "\n",
    "$$\\mu(C_S,C_P)= \\mu_{max} \\left[\\frac{Cs}{K_m^{\\mu}+Cs} \\right]   \\left[ 1-\\frac{C_P}{{C_P^{*}}^{\\mu}} \\right] $$\n",
    "\n",
    "$$\\theta(C_S,C_P)= \\theta_{max} \\left[\\frac{Cs}{K_m^{\\theta}+Cs} \\right]   $$\n",
    "\n",
    "$C_{P^{*}}^{\\mu}$ refers to the terminal succinic acid concentration of $0.75$ $\\frac{\\text{cmol}}{\\text{L}}$. All Monod constants can be taken as $4 \\times 10^{-4}$ $\\frac{\\text{cmol}}{\\text{L}}$.\n",
    "\n",
    "The following initial conditions. $C_X^0=0.002 \\frac{cmol}{L}$ and $C_S^0=\\frac{100}{30} \\frac{cmol}{L}$"
   ]
  },
  {
   "cell_type": "markdown",
   "metadata": {},
   "source": [
    "a) How long will the fermentation take? \n",
    "\n",
    "b) Determine the instantaneous **volumetric** rate of succinic acid production and $Y_{SSA}$ at 10 hours. [$1.5 \\frac{g}{L\\cdot h}$, $0.97 \\frac{g}{g}$]\n",
    "\n",
    "c) Determine the instantaneous **volumetric** rate of succinic acid production and $Y_{SSA}$ at 60 hours and comment. [$0.665 \\frac{g}{L \\cdot h}$ and $1.09 \\frac{g}{g}$]\n",
    "\n",
    "d) At what time is the maximum value of $r_{SA}^V$ obtained? [$13 h$]\n",
    "\n",
    "e) What is the APY and productivity of the fermentation above? \n",
    "\n",
    "f) What is the volumetric rate of $CO_2$ consumption at 60 hours? [$2.5 \\frac{mmol}{L\\cdot h} $]  \n",
    "\n",
    "g) How will a higher product titre ($C_{SA}^{final}$) be achieved? Will the APY and productivity be higher or lower for this fermentation.\n",
    "\n"
   ]
  },
  {
   "cell_type": "markdown",
   "metadata": {},
   "source": [
    "[Back to all tutorials](https://nbviewer.jupyter.org/github/willienicol/Biochemical-engineering-notes/blob/master/Tutorials/All%20tutorials.ipynb)"
   ]
  },
  {
   "cell_type": "code",
   "execution_count": null,
   "metadata": {
    "collapsed": true
   },
   "outputs": [],
   "source": []
  }
 ],
 "metadata": {
  "kernelspec": {
   "display_name": "Python 3 (ipykernel)",
   "language": "python",
   "name": "python3"
  },
  "language_info": {
   "codemirror_mode": {
    "name": "ipython",
    "version": 3
   },
   "file_extension": ".py",
   "mimetype": "text/x-python",
   "name": "python",
   "nbconvert_exporter": "python",
   "pygments_lexer": "ipython3",
   "version": "3.9.13"
  }
 },
 "nbformat": 4,
 "nbformat_minor": 1
}
