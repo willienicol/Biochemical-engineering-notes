{
 "cells": [
  {
   "cell_type": "markdown",
   "metadata": {},
   "source": [
    "## Tutorial problem 1:\n",
    "\n",
    "Now it's your turn to apply some coding principles. This question entails the optimization of a cylindrical shape in order to minimize heat loss. Imagine you have a solid cylinder with a volume of $10 m^{3}$ with a uniform temperature (Ts) of 400 K. The room temperature (Tr) is at 280 K. The convective heat transfer coefficient (h) is 15 $W/m^{2}K$. \n",
    " \n",
    "The following equation applies, where As is the surface area of the cylinder in $m^2$:\n",
    "- $ Qloss = h*As*(Ts-Tr) $\n",
    "\n",
    "We also know that the surface area of a cylinder is given by:\n",
    "- $ As = 2* \\pi*r^{2} + 2*\\pi*r*L$\n",
    "\n",
    "In addition, the volume of a cylinder is given as:\n",
    "- $ V = \\pi*r^{2}*L$\n",
    "\n",
    "We want to optimize the radius of this cylinder in order to minimize the heat loss. We can do this by plotting the heat loss of various diameters and finding the extrema on the graphs. \n",
    "\n",
    "Hint: Let your radius vary between 0.1 and 10."
   ]
  },
  {
   "cell_type": "markdown",
   "metadata": {},
   "source": [
    "## Tutorial Problem 2:\n",
    "\n",
    "To make ethylene gas, which is used to ripen fruits, we can use ethanol. In this chemical pathway, ethanol is dehydrated over a catalyst where it forms water and ethylene gas. Your job is to do a very quick and easy elemental balancing calculation to provide the right reaction stoiciometry. In other words, solve for a,b, and c by performing a C,H, and O balance using matrices.\n",
    "\n",
    "$ a C_{2}H_{6}O \\rightarrow b C_{2}H_{4} + cH_{2}O$"
   ]
  },
  {
   "cell_type": "markdown",
   "metadata": {},
   "source": [
    "## Tutorial problem 3:\n",
    "\n",
    "Integrate the following functions against x over a span of 0 to 1 with increments of 0.01 and plot them on the same graph:\n",
    "1. $\\frac{dy_1}{dx} = x^{3}$\n",
    "2. $\\frac{dy_2}{dx} = 2x+5$\n",
    "\n",
    "Initial conditions: $y_1(0) = 3, y_2(0) = 1$\n",
    "\n",
    "Find their point of intersection, if any."
   ]
  },
  {
   "cell_type": "code",
   "execution_count": null,
   "metadata": {
    "collapsed": true
   },
   "outputs": [],
   "source": []
  }
 ],
 "metadata": {
  "kernelspec": {
   "display_name": "Python 3",
   "language": "python",
   "name": "python3"
  },
  "language_info": {
   "codemirror_mode": {
    "name": "ipython",
    "version": 3
   },
   "file_extension": ".py",
   "mimetype": "text/x-python",
   "name": "python",
   "nbconvert_exporter": "python",
   "pygments_lexer": "ipython3",
   "version": "3.7.6"
  }
 },
 "nbformat": 4,
 "nbformat_minor": 2
}
