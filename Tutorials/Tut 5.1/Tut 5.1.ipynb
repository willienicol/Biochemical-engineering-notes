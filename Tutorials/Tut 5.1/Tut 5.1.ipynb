{
 "cells": [
  {
   "cell_type": "markdown",
   "metadata": {},
   "source": [
    "## Tutorial 5.1 - Measuring $\\mu$\n",
    "\n",
    "The purpose of this tutorial is to understand the concept of specific growth rate ($\\mu$). Remember the following definition that you have used before:\n",
    "\n",
    "$$ r_x = \\mu \\Rightarrow \\frac{g \\,X}{g \\,X \\cdot h} \\Rightarrow \\frac{1}{h}$$\n",
    "-------------------------\n",
    "\n",
    "To illustrate the $\\mu$ concept we will use aerobic growth of _Escherichia coli_. Higher biomass concentrations ($C_X$) is typically associated by an increase in turbidity as can be seen in the **time progression of a single test tube** below. The suspended biomass concentration can be quantified via spectrophotometry.\n",
    "\n",
    "<img src=\"Tut7a.png\" width=\"800\" />\n",
    "\n",
    "a) Start by plotting $C_X$ against time, what do you see?\n",
    "\n",
    "The equation linking $\\mu$ to $C_X$ is the following:\n",
    "\n",
    "$$\\frac{dC_X}{dt}=\\mu C_X $$  \n",
    "---\n",
    "\n",
    "b) It is easy to solve the above equation analytically, but for now we will solve it numerically using the background form [chapter 5.2](https://nbviewer.jupyter.org/github/willienicol/Biochemical-engineering-notes/blob/master/5%20Basic%20bioreactor%20modeling/Solving%20differential%20equations.ipynb).\n",
    "Choose arbitrary values for $\\mu$ and plot the solution together with the experimental data in (a) on a single graph. Remember that $C_X =0.1 \\frac{g}{L}$ at time zero. Note that by definition $\\mu$ has unit of $\\frac{1}{h}$. Explain your graph to your friends.\n",
    "\n",
    "\n",
    "\n"
   ]
  },
  {
   "cell_type": "markdown",
   "metadata": {},
   "source": [
    "c) By what fraction does the biomass increase every hour and does this fraction vary with time? [$\\frac{C_X}{C_{Xo}}-1=0.68$] \n",
    "\n",
    "d) What value of $\\mu$ gives you the best fit of the data (ignore last datapoint for now)? Should this value perhaps be the same as the answer in (c)? If not, why the difference?\n",
    "\n",
    "<img src=\"compoundint.jpg\" width=\"400\" />\n"
   ]
  },
  {
   "cell_type": "markdown",
   "metadata": {},
   "source": [
    "e) Why does $C_X$ increase so little over the last 200 minutes?\n",
    "\n",
    "The initial glucose concentration ($C_{So}$) in the test tube was 3.19 $\\frac{g}{L}$. You can assume that $Y_{SX}=0.42 \\frac{g}{g}$ at all times. The consumption of glucose can accordingly be modelled by:\n",
    "\n",
    "$$\\frac{dC_S}{dt}=-Y_{XS}\\cdot \\mu \\cdot C_X $$ \n",
    "---\n",
    "\n",
    "f) Use the glucose and biomass equations simultaneously to obtain the glucose and biomass concentration profiles as a function of time. Note the difference between $Y_{SX}$ and $Y_{XS}$. What happens to the glucose after 300 min?\n",
    "\n",
    "The following mathematical function stops biomass growth if no glucose is available:\n",
    "\n",
    "$$\\mu = \\mu_{max}\\left[\\frac{Cs}{K_m+Cs} \\right]$$ \n",
    "---\n",
    "Use your fitted $\\mu$ value as $\\mu_{max}$ and a $K_m$ value of 0.001 $\\frac{g}{L}$.\n",
    "\n",
    "g) Re-run the multiple differential equation in (f)? What do you see?\n",
    "\n",
    "<img src=\"t7plot1.png\" width=\"400\" />\n",
    "\n",
    "h) Increase the value of $K_m$ to 0.5 $\\frac{g}{L}$. Explain the response. \n",
    "\n",
    "\n",
    "\n"
   ]
  },
  {
   "cell_type": "code",
   "execution_count": null,
   "metadata": {
    "collapsed": true
   },
   "outputs": [],
   "source": []
  }
 ],
 "metadata": {
  "kernelspec": {
   "display_name": "Python 3 (ipykernel)",
   "language": "python",
   "name": "python3"
  },
  "language_info": {
   "codemirror_mode": {
    "name": "ipython",
    "version": 3
   },
   "file_extension": ".py",
   "mimetype": "text/x-python",
   "name": "python",
   "nbconvert_exporter": "python",
   "pygments_lexer": "ipython3",
   "version": "3.9.13"
  }
 },
 "nbformat": 4,
 "nbformat_minor": 2
}
