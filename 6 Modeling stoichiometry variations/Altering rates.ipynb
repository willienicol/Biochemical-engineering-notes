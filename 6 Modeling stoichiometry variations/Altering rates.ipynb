{
 "cells": [
  {
   "cell_type": "markdown",
   "metadata": {},
   "source": [
    "## Rates that change as fermenter conditions change\n",
    "\n",
    "We now have the tools in place to evaluate the performance of various microbes in the fermenter environment. In this chapter we’ll exclusively focus on the **batch fermenter** and on how the concentration conditions (of substrates, products and biomass) in the fermenter influence the response of the microbes. The response function (or rate function) will encapsulate the complex physiological phenomena occurring within the microbe via simple mathematical formulations that relates the fermenter concentrations to microbial rates.\n",
    "\n",
    "So what is microbial rates? It is the rates that we have been working with the whole time. It is $r_i$ with units:\n",
    "\n",
    "$$r_i \\Rightarrow \\frac{\\text{cmol/mol i}}{\\text{cmol X} \\cdot \\text{h}}$$\n",
    "\n",
    "where the rate basis is the biomass itself. These rates define what the microbe can do for us. It is the heart of any bioprocess and it is all captured in the response function.\n",
    "\n",
    "Chapter 5 was about using the response function to generate concentration profiles in the fermenter (or fermenter profiles). It was illustrated how the response function drives the concentration change in the fermenter. The response function was however a constant response that only terminated once all glucose was consumed. In this chapter the **response function will vary as the concentrations in the fermenter vary**. We will therefore closely examine the influence of fermenter concentrations on the microbial rates in order to understand the time-integrated result obtained in the fermenter profiles.\n",
    "\n",
    "We can start straight away by considering some rate-concentration relationships. The drive for most microbial rates is directly related to energy. In this regards the rates of  $\\mu$ (due to the $\\gamma \\mu$ energy requirement) and $\\theta$ are essential.  Have a look at the shapes of these graphs. **Take a long look** in order to get you brain fixated on the shapes. Start wondering about what cause these functionalities. \n",
    "\n",
    "<img src=\"substrate.png\" width=\"700\" />\n",
    "\n",
    "\n",
    "\n",
    "\n",
    "<img src=\"product.png\" width=\"500\" />"
   ]
  },
  {
   "cell_type": "markdown",
   "metadata": {
    "collapsed": true
   },
   "source": [
    "Let's start by looking at the influence of the substrate concentration ($C_S$) on $\\mu$ and $\\theta$. By default the substrate is taken as the carbon source (like glucose), but remember that there are other substrates like nitrogen and phosphates containing molecules. You will note in $A$ that there is a decline in $\\mu$ and $\\theta$ at **very low concentrations** of substrate. The decline ends with a zero rate at zero substrate. Also note that the decline for $\\mu$ and $\\theta$ is not the same. The shape in $A$ feels intuitively correct since growth and maintenance should become zero when there is no substrate. In the figures of $B$ you will note a range of $C_S$ values where $\\mu$ and $\\theta$ are unaffected by $C_S$. Both rates are at a maximum in this range ($\\mu_{max}$ and $\\theta_{max}$). In the figures of $C$, occurring at high $C_S$ values, there is a gradual decline in the rates. This is referred to as **substrate inhibition**. Note that the inhibition is not the same for $\\mu$ and $\\theta$. \n",
    "\n",
    "In the figures of $D$ it is clear that the product concentration ($C_P$) has a negative influence on $\\mu$ and $\\theta$. This is referred to as **product inhibition**. Note the non-linear shape of the $\\mu$ curve. In the figures of $E$ a linear decline of $\\mu$ up to a zero value is observed while the $\\theta$ rate remains unaffected.\n",
    "\n",
    "So why would the outside concentration of product and substrate influence the behaviour of the microbe? For very low substrate concentrations it is clear that the 'food' is depleted and hence the living microbe will be influenced. But why would high $C_S$ and $C_P$ affect the microbe? The answer is not simple nor singular. In most cases it relates to enzyme activities within the cells. Enzymes can become slower (inhibited) as product or substrate components **within the cell** interfere with its working. The components can alternatively interfere with the transcription or translation of the enzyme proteins. Numerous options exist to slow down the overall metabolism. In CBI we will only work with the mathematical relationships between the outside concentrations and the microbial rates. These relationships were all determined by **experimental observation** and although not always thoroughly understood we can use the known relationships to see how it influences the behaviour in the fermenter.\n",
    "\n",
    "The graphs below are identical to the ones above, with the mathematical functions now given. All terms are constant parameters except for $C_S$, $C_P$, $\\mu$ and $\\theta$.\n",
    "\n",
    "\n",
    "<img src=\"substrate_eq.png\" width=\"800\" />\n",
    "\n",
    "<img src=\"product_eq.png\" width=\"650\" />\n"
   ]
  },
  {
   "cell_type": "markdown",
   "metadata": {},
   "source": [
    "Note that the separate functionalities given above, can be multiplied with one another to describe the overall effect on $\\mu$ or $\\theta$. The $\\mu$ graph in $C$ is a good illustration where:\n",
    "\n",
    "$$\\mu(C_S)= \\mu_{max} \\left[\\frac{Cs}{K_m^{\\mu}+Cs} \\right]  \\left[1+\\frac{C_S}{K_S^{\\mu}} \\right]^{-1}$$\n",
    "---------\n",
    "\n",
    "<img src=\"together.png\" width=\"450\" />\n",
    "\n",
    "The scenario below contains a substrate depletion, substrate inhibition and product inhibition function:\n",
    "\n",
    "$$\\mu(C_S,C_P)= \\mu_{max} \\left[\\frac{Cs}{K_m^{\\mu}+Cs} \\right]  \\left[1+\\frac{C_S}{K_S^{\\mu}} \\right]^{-1} \\left[ 1-\\frac{C_P}{{C_P^{*}}^{\\mu}} \\right] $$\n",
    "---"
   ]
  },
  {
   "cell_type": "markdown",
   "metadata": {},
   "source": [
    "The substrate depletion term $\\left[\\frac{Cs}{K_m+Cs} \\right]$ is referred to as the **Monod** term, named after the Nobel laureate [Jacques Monod](https://en.wikipedia.org/wiki/Monod_equation). This term only influence the rate at **very low** concentrations of $C_S$, typically when $C_S<0.1 \\frac{g}{L}$. \n",
    "\n",
    "In the next section we'll be using some of these functions when integrating the fermenter function. The idea will be to know the shape of the $\\mu$ and $\\theta$ functions before integrating. One also wants to predict the shape of the fermenter profiles given the rate variations before integrating. This is a very useful method for developing a 'feel' for fermentation.\n",
    "\n",
    "Later in this chapter we will also show how oxygen and substrate uptake rates ($-r_O$ and $-r_s$) are directly influenced by conditions in the fermenter. We will however start our integrations with $\\mu$ and $\\theta$ variations.\n",
    "\n",
    "<img src=\"switch.png\" width=\"500\" />\n",
    "\n"
   ]
  },
  {
   "cell_type": "markdown",
   "metadata": {},
   "source": [
    "[Back to Contents page](https://nbviewer.jupyter.org/github/willienicol/Biochemical-engineering-notes/blob/master/List%20of%20contents.ipynb)"
   ]
  },
  {
   "cell_type": "code",
   "execution_count": null,
   "metadata": {
    "collapsed": true
   },
   "outputs": [],
   "source": []
  }
 ],
 "metadata": {
  "kernelspec": {
   "display_name": "Python 3 (ipykernel)",
   "language": "python",
   "name": "python3"
  },
  "language_info": {
   "codemirror_mode": {
    "name": "ipython",
    "version": 3
   },
   "file_extension": ".py",
   "mimetype": "text/x-python",
   "name": "python",
   "nbconvert_exporter": "python",
   "pygments_lexer": "ipython3",
   "version": "3.9.13"
  }
 },
 "nbformat": 4,
 "nbformat_minor": 1
}
